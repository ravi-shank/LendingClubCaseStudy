{
 "cells": [
  {
   "cell_type": "markdown",
   "id": "023172c2-2a7c-47f9-aa6f-8113c29fcc9c",
   "metadata": {},
   "source": [
    "#### Import required libraries and disable warnings"
   ]
  },
  {
   "cell_type": "code",
   "execution_count": 546,
   "id": "4f4d3aee-6137-4d13-bb6f-f325844b3f92",
   "metadata": {},
   "outputs": [],
   "source": [
    "import numpy as np\n",
    "import pandas as pd\n",
    "import matplotlib.pyplot as plt\n",
    "import warnings\n",
    "import seaborn as sns\n",
    "warnings.filterwarnings('ignore')"
   ]
  },
  {
   "cell_type": "markdown",
   "id": "d32514a4-ac84-49ed-b545-f7f2f4ee421e",
   "metadata": {},
   "source": [
    "# 1. Understanding data"
   ]
  },
  {
   "cell_type": "markdown",
   "id": "b1281c76-de1f-4643-8a79-6421d395db5e",
   "metadata": {},
   "source": [
    "### a. Loading data"
   ]
  },
  {
   "cell_type": "code",
   "execution_count": 550,
   "id": "ab85f161-c62d-4961-a3ae-55d741f9d7e9",
   "metadata": {
    "scrolled": true
   },
   "outputs": [
    {
     "data": {
      "text/html": [
       "<div>\n",
       "<style scoped>\n",
       "    .dataframe tbody tr th:only-of-type {\n",
       "        vertical-align: middle;\n",
       "    }\n",
       "\n",
       "    .dataframe tbody tr th {\n",
       "        vertical-align: top;\n",
       "    }\n",
       "\n",
       "    .dataframe thead th {\n",
       "        text-align: right;\n",
       "    }\n",
       "</style>\n",
       "<table border=\"1\" class=\"dataframe\">\n",
       "  <thead>\n",
       "    <tr style=\"text-align: right;\">\n",
       "      <th></th>\n",
       "      <th>id</th>\n",
       "      <th>member_id</th>\n",
       "      <th>loan_amnt</th>\n",
       "      <th>funded_amnt</th>\n",
       "      <th>funded_amnt_inv</th>\n",
       "      <th>term</th>\n",
       "      <th>int_rate</th>\n",
       "      <th>installment</th>\n",
       "      <th>grade</th>\n",
       "      <th>sub_grade</th>\n",
       "      <th>...</th>\n",
       "      <th>num_tl_90g_dpd_24m</th>\n",
       "      <th>num_tl_op_past_12m</th>\n",
       "      <th>pct_tl_nvr_dlq</th>\n",
       "      <th>percent_bc_gt_75</th>\n",
       "      <th>pub_rec_bankruptcies</th>\n",
       "      <th>tax_liens</th>\n",
       "      <th>tot_hi_cred_lim</th>\n",
       "      <th>total_bal_ex_mort</th>\n",
       "      <th>total_bc_limit</th>\n",
       "      <th>total_il_high_credit_limit</th>\n",
       "    </tr>\n",
       "  </thead>\n",
       "  <tbody>\n",
       "    <tr>\n",
       "      <th>0</th>\n",
       "      <td>1077501</td>\n",
       "      <td>1296599</td>\n",
       "      <td>5000</td>\n",
       "      <td>5000</td>\n",
       "      <td>4975.0</td>\n",
       "      <td>36 months</td>\n",
       "      <td>10.65%</td>\n",
       "      <td>162.87</td>\n",
       "      <td>B</td>\n",
       "      <td>B2</td>\n",
       "      <td>...</td>\n",
       "      <td>NaN</td>\n",
       "      <td>NaN</td>\n",
       "      <td>NaN</td>\n",
       "      <td>NaN</td>\n",
       "      <td>0.0</td>\n",
       "      <td>0.0</td>\n",
       "      <td>NaN</td>\n",
       "      <td>NaN</td>\n",
       "      <td>NaN</td>\n",
       "      <td>NaN</td>\n",
       "    </tr>\n",
       "    <tr>\n",
       "      <th>1</th>\n",
       "      <td>1077430</td>\n",
       "      <td>1314167</td>\n",
       "      <td>2500</td>\n",
       "      <td>2500</td>\n",
       "      <td>2500.0</td>\n",
       "      <td>60 months</td>\n",
       "      <td>15.27%</td>\n",
       "      <td>59.83</td>\n",
       "      <td>C</td>\n",
       "      <td>C4</td>\n",
       "      <td>...</td>\n",
       "      <td>NaN</td>\n",
       "      <td>NaN</td>\n",
       "      <td>NaN</td>\n",
       "      <td>NaN</td>\n",
       "      <td>0.0</td>\n",
       "      <td>0.0</td>\n",
       "      <td>NaN</td>\n",
       "      <td>NaN</td>\n",
       "      <td>NaN</td>\n",
       "      <td>NaN</td>\n",
       "    </tr>\n",
       "    <tr>\n",
       "      <th>2</th>\n",
       "      <td>1077175</td>\n",
       "      <td>1313524</td>\n",
       "      <td>2400</td>\n",
       "      <td>2400</td>\n",
       "      <td>2400.0</td>\n",
       "      <td>36 months</td>\n",
       "      <td>15.96%</td>\n",
       "      <td>84.33</td>\n",
       "      <td>C</td>\n",
       "      <td>C5</td>\n",
       "      <td>...</td>\n",
       "      <td>NaN</td>\n",
       "      <td>NaN</td>\n",
       "      <td>NaN</td>\n",
       "      <td>NaN</td>\n",
       "      <td>0.0</td>\n",
       "      <td>0.0</td>\n",
       "      <td>NaN</td>\n",
       "      <td>NaN</td>\n",
       "      <td>NaN</td>\n",
       "      <td>NaN</td>\n",
       "    </tr>\n",
       "    <tr>\n",
       "      <th>3</th>\n",
       "      <td>1076863</td>\n",
       "      <td>1277178</td>\n",
       "      <td>10000</td>\n",
       "      <td>10000</td>\n",
       "      <td>10000.0</td>\n",
       "      <td>36 months</td>\n",
       "      <td>13.49%</td>\n",
       "      <td>339.31</td>\n",
       "      <td>C</td>\n",
       "      <td>C1</td>\n",
       "      <td>...</td>\n",
       "      <td>NaN</td>\n",
       "      <td>NaN</td>\n",
       "      <td>NaN</td>\n",
       "      <td>NaN</td>\n",
       "      <td>0.0</td>\n",
       "      <td>0.0</td>\n",
       "      <td>NaN</td>\n",
       "      <td>NaN</td>\n",
       "      <td>NaN</td>\n",
       "      <td>NaN</td>\n",
       "    </tr>\n",
       "    <tr>\n",
       "      <th>4</th>\n",
       "      <td>1075358</td>\n",
       "      <td>1311748</td>\n",
       "      <td>3000</td>\n",
       "      <td>3000</td>\n",
       "      <td>3000.0</td>\n",
       "      <td>60 months</td>\n",
       "      <td>12.69%</td>\n",
       "      <td>67.79</td>\n",
       "      <td>B</td>\n",
       "      <td>B5</td>\n",
       "      <td>...</td>\n",
       "      <td>NaN</td>\n",
       "      <td>NaN</td>\n",
       "      <td>NaN</td>\n",
       "      <td>NaN</td>\n",
       "      <td>0.0</td>\n",
       "      <td>0.0</td>\n",
       "      <td>NaN</td>\n",
       "      <td>NaN</td>\n",
       "      <td>NaN</td>\n",
       "      <td>NaN</td>\n",
       "    </tr>\n",
       "  </tbody>\n",
       "</table>\n",
       "<p>5 rows × 111 columns</p>\n",
       "</div>"
      ],
      "text/plain": [
       "        id  member_id  loan_amnt  funded_amnt  funded_amnt_inv        term  \\\n",
       "0  1077501    1296599       5000         5000           4975.0   36 months   \n",
       "1  1077430    1314167       2500         2500           2500.0   60 months   \n",
       "2  1077175    1313524       2400         2400           2400.0   36 months   \n",
       "3  1076863    1277178      10000        10000          10000.0   36 months   \n",
       "4  1075358    1311748       3000         3000           3000.0   60 months   \n",
       "\n",
       "  int_rate  installment grade sub_grade  ... num_tl_90g_dpd_24m  \\\n",
       "0   10.65%       162.87     B        B2  ...                NaN   \n",
       "1   15.27%        59.83     C        C4  ...                NaN   \n",
       "2   15.96%        84.33     C        C5  ...                NaN   \n",
       "3   13.49%       339.31     C        C1  ...                NaN   \n",
       "4   12.69%        67.79     B        B5  ...                NaN   \n",
       "\n",
       "  num_tl_op_past_12m pct_tl_nvr_dlq  percent_bc_gt_75 pub_rec_bankruptcies  \\\n",
       "0                NaN            NaN               NaN                  0.0   \n",
       "1                NaN            NaN               NaN                  0.0   \n",
       "2                NaN            NaN               NaN                  0.0   \n",
       "3                NaN            NaN               NaN                  0.0   \n",
       "4                NaN            NaN               NaN                  0.0   \n",
       "\n",
       "  tax_liens tot_hi_cred_lim total_bal_ex_mort total_bc_limit  \\\n",
       "0       0.0             NaN               NaN            NaN   \n",
       "1       0.0             NaN               NaN            NaN   \n",
       "2       0.0             NaN               NaN            NaN   \n",
       "3       0.0             NaN               NaN            NaN   \n",
       "4       0.0             NaN               NaN            NaN   \n",
       "\n",
       "  total_il_high_credit_limit  \n",
       "0                        NaN  \n",
       "1                        NaN  \n",
       "2                        NaN  \n",
       "3                        NaN  \n",
       "4                        NaN  \n",
       "\n",
       "[5 rows x 111 columns]"
      ]
     },
     "execution_count": 550,
     "metadata": {},
     "output_type": "execute_result"
    }
   ],
   "source": [
    "data = pd.read_csv('loan.csv')\n",
    "data.head()"
   ]
  },
  {
   "cell_type": "markdown",
   "id": "2efb67d0-eb2d-44db-8eea-e9272f3ba548",
   "metadata": {},
   "source": [
    "### b. Shape of data"
   ]
  },
  {
   "cell_type": "code",
   "execution_count": 552,
   "id": "d078b3fe-dfa2-4206-a4ca-fec468dc418c",
   "metadata": {},
   "outputs": [
    {
     "name": "stdout",
     "output_type": "stream",
     "text": [
      "rows= 39717\n",
      "cols= 111\n"
     ]
    }
   ],
   "source": [
    "print(\"rows=\", data.shape[0])\n",
    "print(\"cols=\", data.shape[1])"
   ]
  },
  {
   "cell_type": "markdown",
   "id": "2578dac7-baf0-43cf-859a-55f9c17dec14",
   "metadata": {},
   "source": [
    "###### We have 39717 rows and 111 columns"
   ]
  },
  {
   "cell_type": "markdown",
   "id": "2fdeab08-cd8e-4af4-a9a9-069e1413e97b",
   "metadata": {},
   "source": [
    "### c. Description of data"
   ]
  },
  {
   "cell_type": "code",
   "execution_count": 557,
   "id": "3bac7859-872e-4b2c-86cd-cb004dc1130e",
   "metadata": {},
   "outputs": [
    {
     "data": {
      "text/html": [
       "<div>\n",
       "<style scoped>\n",
       "    .dataframe tbody tr th:only-of-type {\n",
       "        vertical-align: middle;\n",
       "    }\n",
       "\n",
       "    .dataframe tbody tr th {\n",
       "        vertical-align: top;\n",
       "    }\n",
       "\n",
       "    .dataframe thead th {\n",
       "        text-align: right;\n",
       "    }\n",
       "</style>\n",
       "<table border=\"1\" class=\"dataframe\">\n",
       "  <thead>\n",
       "    <tr style=\"text-align: right;\">\n",
       "      <th></th>\n",
       "      <th>id</th>\n",
       "      <th>member_id</th>\n",
       "      <th>loan_amnt</th>\n",
       "      <th>funded_amnt</th>\n",
       "      <th>funded_amnt_inv</th>\n",
       "      <th>installment</th>\n",
       "      <th>annual_inc</th>\n",
       "      <th>dti</th>\n",
       "      <th>delinq_2yrs</th>\n",
       "      <th>inq_last_6mths</th>\n",
       "      <th>...</th>\n",
       "      <th>num_tl_90g_dpd_24m</th>\n",
       "      <th>num_tl_op_past_12m</th>\n",
       "      <th>pct_tl_nvr_dlq</th>\n",
       "      <th>percent_bc_gt_75</th>\n",
       "      <th>pub_rec_bankruptcies</th>\n",
       "      <th>tax_liens</th>\n",
       "      <th>tot_hi_cred_lim</th>\n",
       "      <th>total_bal_ex_mort</th>\n",
       "      <th>total_bc_limit</th>\n",
       "      <th>total_il_high_credit_limit</th>\n",
       "    </tr>\n",
       "  </thead>\n",
       "  <tbody>\n",
       "    <tr>\n",
       "      <th>count</th>\n",
       "      <td>3.971700e+04</td>\n",
       "      <td>3.971700e+04</td>\n",
       "      <td>39717.000000</td>\n",
       "      <td>39717.000000</td>\n",
       "      <td>39717.000000</td>\n",
       "      <td>39717.000000</td>\n",
       "      <td>3.971700e+04</td>\n",
       "      <td>39717.000000</td>\n",
       "      <td>39717.000000</td>\n",
       "      <td>39717.000000</td>\n",
       "      <td>...</td>\n",
       "      <td>0.0</td>\n",
       "      <td>0.0</td>\n",
       "      <td>0.0</td>\n",
       "      <td>0.0</td>\n",
       "      <td>39020.000000</td>\n",
       "      <td>39678.0</td>\n",
       "      <td>0.0</td>\n",
       "      <td>0.0</td>\n",
       "      <td>0.0</td>\n",
       "      <td>0.0</td>\n",
       "    </tr>\n",
       "    <tr>\n",
       "      <th>mean</th>\n",
       "      <td>6.831319e+05</td>\n",
       "      <td>8.504636e+05</td>\n",
       "      <td>11219.443815</td>\n",
       "      <td>10947.713196</td>\n",
       "      <td>10397.448868</td>\n",
       "      <td>324.561922</td>\n",
       "      <td>6.896893e+04</td>\n",
       "      <td>13.315130</td>\n",
       "      <td>0.146512</td>\n",
       "      <td>0.869200</td>\n",
       "      <td>...</td>\n",
       "      <td>NaN</td>\n",
       "      <td>NaN</td>\n",
       "      <td>NaN</td>\n",
       "      <td>NaN</td>\n",
       "      <td>0.043260</td>\n",
       "      <td>0.0</td>\n",
       "      <td>NaN</td>\n",
       "      <td>NaN</td>\n",
       "      <td>NaN</td>\n",
       "      <td>NaN</td>\n",
       "    </tr>\n",
       "    <tr>\n",
       "      <th>std</th>\n",
       "      <td>2.106941e+05</td>\n",
       "      <td>2.656783e+05</td>\n",
       "      <td>7456.670694</td>\n",
       "      <td>7187.238670</td>\n",
       "      <td>7128.450439</td>\n",
       "      <td>208.874874</td>\n",
       "      <td>6.379377e+04</td>\n",
       "      <td>6.678594</td>\n",
       "      <td>0.491812</td>\n",
       "      <td>1.070219</td>\n",
       "      <td>...</td>\n",
       "      <td>NaN</td>\n",
       "      <td>NaN</td>\n",
       "      <td>NaN</td>\n",
       "      <td>NaN</td>\n",
       "      <td>0.204324</td>\n",
       "      <td>0.0</td>\n",
       "      <td>NaN</td>\n",
       "      <td>NaN</td>\n",
       "      <td>NaN</td>\n",
       "      <td>NaN</td>\n",
       "    </tr>\n",
       "    <tr>\n",
       "      <th>min</th>\n",
       "      <td>5.473400e+04</td>\n",
       "      <td>7.069900e+04</td>\n",
       "      <td>500.000000</td>\n",
       "      <td>500.000000</td>\n",
       "      <td>0.000000</td>\n",
       "      <td>15.690000</td>\n",
       "      <td>4.000000e+03</td>\n",
       "      <td>0.000000</td>\n",
       "      <td>0.000000</td>\n",
       "      <td>0.000000</td>\n",
       "      <td>...</td>\n",
       "      <td>NaN</td>\n",
       "      <td>NaN</td>\n",
       "      <td>NaN</td>\n",
       "      <td>NaN</td>\n",
       "      <td>0.000000</td>\n",
       "      <td>0.0</td>\n",
       "      <td>NaN</td>\n",
       "      <td>NaN</td>\n",
       "      <td>NaN</td>\n",
       "      <td>NaN</td>\n",
       "    </tr>\n",
       "    <tr>\n",
       "      <th>25%</th>\n",
       "      <td>5.162210e+05</td>\n",
       "      <td>6.667800e+05</td>\n",
       "      <td>5500.000000</td>\n",
       "      <td>5400.000000</td>\n",
       "      <td>5000.000000</td>\n",
       "      <td>167.020000</td>\n",
       "      <td>4.040400e+04</td>\n",
       "      <td>8.170000</td>\n",
       "      <td>0.000000</td>\n",
       "      <td>0.000000</td>\n",
       "      <td>...</td>\n",
       "      <td>NaN</td>\n",
       "      <td>NaN</td>\n",
       "      <td>NaN</td>\n",
       "      <td>NaN</td>\n",
       "      <td>0.000000</td>\n",
       "      <td>0.0</td>\n",
       "      <td>NaN</td>\n",
       "      <td>NaN</td>\n",
       "      <td>NaN</td>\n",
       "      <td>NaN</td>\n",
       "    </tr>\n",
       "    <tr>\n",
       "      <th>50%</th>\n",
       "      <td>6.656650e+05</td>\n",
       "      <td>8.508120e+05</td>\n",
       "      <td>10000.000000</td>\n",
       "      <td>9600.000000</td>\n",
       "      <td>8975.000000</td>\n",
       "      <td>280.220000</td>\n",
       "      <td>5.900000e+04</td>\n",
       "      <td>13.400000</td>\n",
       "      <td>0.000000</td>\n",
       "      <td>1.000000</td>\n",
       "      <td>...</td>\n",
       "      <td>NaN</td>\n",
       "      <td>NaN</td>\n",
       "      <td>NaN</td>\n",
       "      <td>NaN</td>\n",
       "      <td>0.000000</td>\n",
       "      <td>0.0</td>\n",
       "      <td>NaN</td>\n",
       "      <td>NaN</td>\n",
       "      <td>NaN</td>\n",
       "      <td>NaN</td>\n",
       "    </tr>\n",
       "    <tr>\n",
       "      <th>75%</th>\n",
       "      <td>8.377550e+05</td>\n",
       "      <td>1.047339e+06</td>\n",
       "      <td>15000.000000</td>\n",
       "      <td>15000.000000</td>\n",
       "      <td>14400.000000</td>\n",
       "      <td>430.780000</td>\n",
       "      <td>8.230000e+04</td>\n",
       "      <td>18.600000</td>\n",
       "      <td>0.000000</td>\n",
       "      <td>1.000000</td>\n",
       "      <td>...</td>\n",
       "      <td>NaN</td>\n",
       "      <td>NaN</td>\n",
       "      <td>NaN</td>\n",
       "      <td>NaN</td>\n",
       "      <td>0.000000</td>\n",
       "      <td>0.0</td>\n",
       "      <td>NaN</td>\n",
       "      <td>NaN</td>\n",
       "      <td>NaN</td>\n",
       "      <td>NaN</td>\n",
       "    </tr>\n",
       "    <tr>\n",
       "      <th>max</th>\n",
       "      <td>1.077501e+06</td>\n",
       "      <td>1.314167e+06</td>\n",
       "      <td>35000.000000</td>\n",
       "      <td>35000.000000</td>\n",
       "      <td>35000.000000</td>\n",
       "      <td>1305.190000</td>\n",
       "      <td>6.000000e+06</td>\n",
       "      <td>29.990000</td>\n",
       "      <td>11.000000</td>\n",
       "      <td>8.000000</td>\n",
       "      <td>...</td>\n",
       "      <td>NaN</td>\n",
       "      <td>NaN</td>\n",
       "      <td>NaN</td>\n",
       "      <td>NaN</td>\n",
       "      <td>2.000000</td>\n",
       "      <td>0.0</td>\n",
       "      <td>NaN</td>\n",
       "      <td>NaN</td>\n",
       "      <td>NaN</td>\n",
       "      <td>NaN</td>\n",
       "    </tr>\n",
       "  </tbody>\n",
       "</table>\n",
       "<p>8 rows × 87 columns</p>\n",
       "</div>"
      ],
      "text/plain": [
       "                 id     member_id     loan_amnt   funded_amnt  \\\n",
       "count  3.971700e+04  3.971700e+04  39717.000000  39717.000000   \n",
       "mean   6.831319e+05  8.504636e+05  11219.443815  10947.713196   \n",
       "std    2.106941e+05  2.656783e+05   7456.670694   7187.238670   \n",
       "min    5.473400e+04  7.069900e+04    500.000000    500.000000   \n",
       "25%    5.162210e+05  6.667800e+05   5500.000000   5400.000000   \n",
       "50%    6.656650e+05  8.508120e+05  10000.000000   9600.000000   \n",
       "75%    8.377550e+05  1.047339e+06  15000.000000  15000.000000   \n",
       "max    1.077501e+06  1.314167e+06  35000.000000  35000.000000   \n",
       "\n",
       "       funded_amnt_inv   installment    annual_inc           dti  \\\n",
       "count     39717.000000  39717.000000  3.971700e+04  39717.000000   \n",
       "mean      10397.448868    324.561922  6.896893e+04     13.315130   \n",
       "std        7128.450439    208.874874  6.379377e+04      6.678594   \n",
       "min           0.000000     15.690000  4.000000e+03      0.000000   \n",
       "25%        5000.000000    167.020000  4.040400e+04      8.170000   \n",
       "50%        8975.000000    280.220000  5.900000e+04     13.400000   \n",
       "75%       14400.000000    430.780000  8.230000e+04     18.600000   \n",
       "max       35000.000000   1305.190000  6.000000e+06     29.990000   \n",
       "\n",
       "        delinq_2yrs  inq_last_6mths  ...  num_tl_90g_dpd_24m  \\\n",
       "count  39717.000000    39717.000000  ...                 0.0   \n",
       "mean       0.146512        0.869200  ...                 NaN   \n",
       "std        0.491812        1.070219  ...                 NaN   \n",
       "min        0.000000        0.000000  ...                 NaN   \n",
       "25%        0.000000        0.000000  ...                 NaN   \n",
       "50%        0.000000        1.000000  ...                 NaN   \n",
       "75%        0.000000        1.000000  ...                 NaN   \n",
       "max       11.000000        8.000000  ...                 NaN   \n",
       "\n",
       "       num_tl_op_past_12m  pct_tl_nvr_dlq  percent_bc_gt_75  \\\n",
       "count                 0.0             0.0               0.0   \n",
       "mean                  NaN             NaN               NaN   \n",
       "std                   NaN             NaN               NaN   \n",
       "min                   NaN             NaN               NaN   \n",
       "25%                   NaN             NaN               NaN   \n",
       "50%                   NaN             NaN               NaN   \n",
       "75%                   NaN             NaN               NaN   \n",
       "max                   NaN             NaN               NaN   \n",
       "\n",
       "       pub_rec_bankruptcies  tax_liens  tot_hi_cred_lim  total_bal_ex_mort  \\\n",
       "count          39020.000000    39678.0              0.0                0.0   \n",
       "mean               0.043260        0.0              NaN                NaN   \n",
       "std                0.204324        0.0              NaN                NaN   \n",
       "min                0.000000        0.0              NaN                NaN   \n",
       "25%                0.000000        0.0              NaN                NaN   \n",
       "50%                0.000000        0.0              NaN                NaN   \n",
       "75%                0.000000        0.0              NaN                NaN   \n",
       "max                2.000000        0.0              NaN                NaN   \n",
       "\n",
       "       total_bc_limit  total_il_high_credit_limit  \n",
       "count             0.0                         0.0  \n",
       "mean              NaN                         NaN  \n",
       "std               NaN                         NaN  \n",
       "min               NaN                         NaN  \n",
       "25%               NaN                         NaN  \n",
       "50%               NaN                         NaN  \n",
       "75%               NaN                         NaN  \n",
       "max               NaN                         NaN  \n",
       "\n",
       "[8 rows x 87 columns]"
      ]
     },
     "execution_count": 557,
     "metadata": {},
     "output_type": "execute_result"
    }
   ],
   "source": [
    "data.describe()"
   ]
  },
  {
   "cell_type": "code",
   "execution_count": 559,
   "id": "d886c0f6-2923-4cc5-9569-dc4e1f9dbebc",
   "metadata": {},
   "outputs": [
    {
     "data": {
      "text/plain": [
       "id                                0\n",
       "member_id                         0\n",
       "loan_amnt                         0\n",
       "funded_amnt                       0\n",
       "funded_amnt_inv                   0\n",
       "                              ...  \n",
       "tax_liens                        39\n",
       "tot_hi_cred_lim               39717\n",
       "total_bal_ex_mort             39717\n",
       "total_bc_limit                39717\n",
       "total_il_high_credit_limit    39717\n",
       "Length: 111, dtype: int64"
      ]
     },
     "execution_count": 559,
     "metadata": {},
     "output_type": "execute_result"
    }
   ],
   "source": [
    "# We can observe that many columns have null values\n",
    "# Check the columns which have null values along with its sum.\n",
    "data.isnull().sum()"
   ]
  },
  {
   "cell_type": "markdown",
   "id": "0713499c-9fc9-4d09-942c-e2b3196277a5",
   "metadata": {},
   "source": [
    "#### We can observe that there are some columns which have null values. Since they don't contribute to the analysis we will remove them later in the data cleaning step"
   ]
  },
  {
   "cell_type": "markdown",
   "id": "0a25676b-3ceb-4520-b461-5941b25761bf",
   "metadata": {},
   "source": [
    "# 2. Cleaning data"
   ]
  },
  {
   "cell_type": "markdown",
   "id": "e5957dde-4b28-46c9-9cd6-b2ef626b43a0",
   "metadata": {},
   "source": [
    "### a. Deleting columns which have only null values present"
   ]
  },
  {
   "cell_type": "code",
   "execution_count": 564,
   "id": "01feb593-7868-42aa-ba3b-94cac58bb6c8",
   "metadata": {
    "scrolled": true
   },
   "outputs": [
    {
     "name": "stdout",
     "output_type": "stream",
     "text": [
      "Number of columns which have all values as NA:  54\n"
     ]
    }
   ],
   "source": [
    "total_len = len(data)\n",
    "print(\"Number of columns which have all values as NA: \", len(data.columns[data.isna().all()].tolist()))"
   ]
  },
  {
   "cell_type": "code",
   "execution_count": 566,
   "id": "18ad37b1-bab6-4222-ac7f-e59a88e6071e",
   "metadata": {
    "scrolled": true
   },
   "outputs": [],
   "source": [
    "# We have total 54 columns which have null value. So we need to delete them as they will not help us in any analysis\n",
    "data.dropna(axis = 1, how = 'all', inplace = True)\n",
    "#data.head()"
   ]
  },
  {
   "cell_type": "markdown",
   "id": "0ca9b402-7ea7-4090-9431-1001e3f17f9b",
   "metadata": {},
   "source": [
    "### b. Delete entries for which the loan_status is current as the people who are already paying loan doesn't contribute to the analysis. We are only interested in **Fully Paid** or **Charged Off**"
   ]
  },
  {
   "cell_type": "code",
   "execution_count": 569,
   "id": "6aa7f1f0-b68b-42e3-8003-857532b03e52",
   "metadata": {},
   "outputs": [
    {
     "data": {
      "text/plain": [
       "(38577, 57)"
      ]
     },
     "execution_count": 569,
     "metadata": {},
     "output_type": "execute_result"
    }
   ],
   "source": [
    "total_len = len(data)\n",
    "data = data[data['loan_status'] != 'Current']\n",
    "new_len = len(data)\n",
    "data.shape"
   ]
  },
  {
   "cell_type": "code",
   "execution_count": 571,
   "id": "c32cfb9e-d7a3-4221-94cd-7d59f9630cde",
   "metadata": {},
   "outputs": [
    {
     "name": "stdout",
     "output_type": "stream",
     "text": [
      "% of rows removed =  2.8703074250321023\n"
     ]
    }
   ],
   "source": [
    "print (\"% of rows removed = \", ((total_len-new_len) / total_len )*100)"
   ]
  },
  {
   "cell_type": "markdown",
   "id": "ab416857-8e2e-4156-9c17-36eb1240e4d2",
   "metadata": {},
   "source": [
    "### c. Removing columns which have only single values. (i.e all values are same)"
   ]
  },
  {
   "cell_type": "code",
   "execution_count": 574,
   "id": "208f3236-a83c-4649-a039-875572a5c410",
   "metadata": {},
   "outputs": [],
   "source": [
    "# There are columns which have all the values same. We will discard those columns as these columns will not helps us in analysis.\n",
    "# To verify this we can quickly open the csv in excel and verif this fact using filter"
   ]
  },
  {
   "cell_type": "code",
   "execution_count": 576,
   "id": "b91f2784-f86b-40a0-b559-83adf0a54545",
   "metadata": {},
   "outputs": [],
   "source": [
    "columns = ['pymnt_plan', 'initial_list_status', 'collections_12_mths_ex_med',  'policy_code', 'application_type', \n",
    "           'acc_now_delinq', 'delinq_amnt', 'tax_liens']\n",
    "data.drop(columns, axis = 1, inplace = True)\n",
    "#data.head()"
   ]
  },
  {
   "cell_type": "code",
   "execution_count": 578,
   "id": "416d3307-0673-4727-8e44-356b52d3882a",
   "metadata": {},
   "outputs": [
    {
     "name": "stdout",
     "output_type": "stream",
     "text": [
      "Index(['id', 'member_id', 'loan_amnt', 'funded_amnt', 'funded_amnt_inv',\n",
      "       'term', 'int_rate', 'installment', 'grade', 'sub_grade', 'emp_title',\n",
      "       'emp_length', 'home_ownership', 'annual_inc', 'verification_status',\n",
      "       'issue_d', 'loan_status', 'url', 'desc', 'purpose', 'title', 'zip_code',\n",
      "       'addr_state', 'dti', 'delinq_2yrs', 'earliest_cr_line',\n",
      "       'inq_last_6mths', 'mths_since_last_delinq', 'mths_since_last_record',\n",
      "       'open_acc', 'pub_rec', 'revol_bal', 'revol_util', 'total_acc',\n",
      "       'out_prncp', 'out_prncp_inv', 'total_pymnt', 'total_pymnt_inv',\n",
      "       'total_rec_prncp', 'total_rec_int', 'total_rec_late_fee', 'recoveries',\n",
      "       'collection_recovery_fee', 'last_pymnt_d', 'last_pymnt_amnt',\n",
      "       'next_pymnt_d', 'last_credit_pull_d', 'chargeoff_within_12_mths',\n",
      "       'pub_rec_bankruptcies'],\n",
      "      dtype='object')\n",
      "49\n"
     ]
    }
   ],
   "source": [
    "print(data.columns)\n",
    "print(len(data.columns))"
   ]
  },
  {
   "cell_type": "code",
   "execution_count": 580,
   "id": "f60da1de-3ae4-4a84-875c-3943eae8ad36",
   "metadata": {},
   "outputs": [
    {
     "data": {
      "text/plain": [
       "(38577, 49)"
      ]
     },
     "execution_count": 580,
     "metadata": {},
     "output_type": "execute_result"
    }
   ],
   "source": [
    "# Deleting the rows which is having all columns values as na.\n",
    "data = data.dropna(axis=0, how=\"all\")\n",
    "data.shape"
   ]
  },
  {
   "cell_type": "markdown",
   "id": "d9942ccb-502c-4fee-8fdc-93b5d807e5c2",
   "metadata": {},
   "source": [
    "### d. Removing columns which are post approval features"
   ]
  },
  {
   "cell_type": "code",
   "execution_count": 583,
   "id": "0096d267-ca6c-451d-99fa-fb450fc9b096",
   "metadata": {},
   "outputs": [],
   "source": [
    "# There are some columns which are post approval features.\n",
    "# columns like \"out_prncp_inv\" , \"total_pymnt_inv\" etc not contributing to our analysis and are useful for investors.\n",
    "columns = ['delinq_2yrs', 'earliest_cr_line', 'last_pymnt_amnt','inq_last_6mths', 'open_acc', 'revol_bal', 'revol_util',\n",
    "           'total_acc','out_prncp', 'out_prncp_inv', 'total_pymnt','total_pymnt_inv', 'total_rec_prncp', 'total_rec_int', \n",
    "           'total_rec_late_fee', 'recoveries', 'collection_recovery_fee','last_pymnt_d','last_credit_pull_d', 'mths_since_last_delinq',\n",
    "           'mths_since_last_record' ,'chargeoff_within_12_mths' \n",
    "          ]\n",
    "#'pub_rec_bankruptcies', 'pub_rec'\n",
    "data.drop(columns, axis = 1, inplace = True)\n"
   ]
  },
  {
   "cell_type": "code",
   "execution_count": 585,
   "id": "54fd5ce5-ac2b-44f6-9733-b64283a3d9af",
   "metadata": {},
   "outputs": [
    {
     "name": "stdout",
     "output_type": "stream",
     "text": [
      "Index(['id', 'member_id', 'loan_amnt', 'funded_amnt', 'funded_amnt_inv',\n",
      "       'term', 'int_rate', 'installment', 'grade', 'sub_grade', 'emp_title',\n",
      "       'emp_length', 'home_ownership', 'annual_inc', 'verification_status',\n",
      "       'issue_d', 'loan_status', 'url', 'desc', 'purpose', 'title', 'zip_code',\n",
      "       'addr_state', 'dti', 'pub_rec', 'next_pymnt_d', 'pub_rec_bankruptcies'],\n",
      "      dtype='object')\n",
      "27\n"
     ]
    }
   ],
   "source": [
    "print(data.columns)\n",
    "print (len(data.columns))"
   ]
  },
  {
   "cell_type": "code",
   "execution_count": 587,
   "id": "13f98acf-6137-4882-a41f-d395a0b9f054",
   "metadata": {
    "scrolled": true
   },
   "outputs": [
    {
     "data": {
      "text/plain": [
       "Index(['loan_amnt', 'funded_amnt', 'funded_amnt_inv', 'term', 'int_rate',\n",
       "       'installment', 'grade', 'sub_grade', 'emp_title', 'emp_length',\n",
       "       'home_ownership', 'annual_inc', 'verification_status', 'issue_d',\n",
       "       'loan_status', 'url', 'desc', 'purpose', 'title', 'addr_state', 'dti',\n",
       "       'pub_rec', 'next_pymnt_d', 'pub_rec_bankruptcies'],\n",
       "      dtype='object')"
      ]
     },
     "execution_count": 587,
     "metadata": {},
     "output_type": "execute_result"
    }
   ],
   "source": [
    "# If we observe the columns values then we can see that the column: id, member_id, zip_code are the data which are not of much use.\n",
    "\n",
    "data.drop(['id' ,'member_id', 'zip_code'], inplace=True, axis =1 )\n",
    "#data.head()\n",
    "data.columns"
   ]
  },
  {
   "cell_type": "markdown",
   "id": "5b0fa4ed-8578-4a55-b016-c8a999a332b7",
   "metadata": {},
   "source": [
    "### e. Removing the columns which have string data and are not of any use. "
   ]
  },
  {
   "cell_type": "code",
   "execution_count": 590,
   "id": "7476c04b-c00b-4976-99c5-6f0fcd969f5c",
   "metadata": {},
   "outputs": [],
   "source": [
    "# We can observe that there are some columns which have string as data. For example columns like \n",
    "# emp_title, url, desc, purpose, title doesn't make sense much.\n",
    "# So we can safely delete these columns.\n",
    "\n",
    "columns = ['desc', 'title', 'emp_title', 'url']\n",
    "data.drop(columns, inplace=True, axis =1 )\n",
    "#data.head()"
   ]
  },
  {
   "cell_type": "code",
   "execution_count": 592,
   "id": "4aaa3366-0cec-4413-8b3a-32d7f41f2643",
   "metadata": {},
   "outputs": [
    {
     "data": {
      "text/plain": [
       "Index(['loan_amnt', 'funded_amnt', 'funded_amnt_inv', 'term', 'int_rate',\n",
       "       'installment', 'grade', 'sub_grade', 'emp_length', 'home_ownership',\n",
       "       'annual_inc', 'verification_status', 'issue_d', 'loan_status',\n",
       "       'purpose', 'addr_state', 'dti', 'pub_rec', 'next_pymnt_d',\n",
       "       'pub_rec_bankruptcies'],\n",
       "      dtype='object')"
      ]
     },
     "execution_count": 592,
     "metadata": {},
     "output_type": "execute_result"
    }
   ],
   "source": [
    "data.columns"
   ]
  },
  {
   "cell_type": "markdown",
   "id": "30822fdf-9888-4941-b0f2-e14555395969",
   "metadata": {},
   "source": [
    "# 3. Data modification"
   ]
  },
  {
   "cell_type": "markdown",
   "id": "e51054e7-8cff-4e30-a681-cb911dce9473",
   "metadata": {},
   "source": [
    "### a. Handle missing values"
   ]
  },
  {
   "cell_type": "code",
   "execution_count": 596,
   "id": "31c58df9-5349-4a08-a8df-bf39531054c9",
   "metadata": {},
   "outputs": [
    {
     "data": {
      "text/plain": [
       "loan_amnt                 0.000000\n",
       "funded_amnt               0.000000\n",
       "funded_amnt_inv           0.000000\n",
       "term                      0.000000\n",
       "int_rate                  0.000000\n",
       "installment               0.000000\n",
       "grade                     0.000000\n",
       "sub_grade                 0.000000\n",
       "emp_length                2.677761\n",
       "home_ownership            0.000000\n",
       "annual_inc                0.000000\n",
       "verification_status       0.000000\n",
       "issue_d                   0.000000\n",
       "loan_status               0.000000\n",
       "purpose                   0.000000\n",
       "addr_state                0.000000\n",
       "dti                       0.000000\n",
       "pub_rec                   0.000000\n",
       "next_pymnt_d            100.000000\n",
       "pub_rec_bankruptcies      1.806776\n",
       "dtype: float64"
      ]
     },
     "execution_count": 596,
     "metadata": {},
     "output_type": "execute_result"
    }
   ],
   "source": [
    "# Lets look at the columns which has missing values. Below code prints the % of rows which has missing values for each columns.\n",
    "(data.isna().sum()/len(data))*100"
   ]
  },
  {
   "cell_type": "markdown",
   "id": "ebbe7da2-d26a-4533-a114-48411acfecde",
   "metadata": {},
   "source": [
    "##### We can observe that column `emp_length` 2.67% of rows value missing values. So we need to either remove them or impute them.\n",
    "##### We also observed that column `next_pymnt_d` has 100% missing values. So we can safely delete this column.\n",
    "##### Column `pub_rec_bankruptcies` also has 1.8% missing values.\n",
    "##### Since the columns which has NA values are very less, we can remove the rows which has Na values for these columns."
   ]
  },
  {
   "cell_type": "code",
   "execution_count": 599,
   "id": "37490739-a49b-4985-91af-3c774c1ee767",
   "metadata": {},
   "outputs": [],
   "source": [
    "# remove column \n",
    "data.drop(['next_pymnt_d'], inplace=True, axis =1 )"
   ]
  },
  {
   "cell_type": "code",
   "execution_count": 601,
   "id": "2e256911-402e-4b80-9c17-386121c85452",
   "metadata": {},
   "outputs": [],
   "source": [
    "# remove rows from data which has columns emp_length , pub_rec_bankruptcies as NA\n",
    "orig_len = len(data)\n",
    "data = data[  data['emp_length'].notna() ]\n",
    "data = data[  data['pub_rec_bankruptcies'].notna() ]\n",
    "\n",
    "new_len = len(data)"
   ]
  },
  {
   "cell_type": "code",
   "execution_count": 603,
   "id": "8395d2f5-48b3-44ae-8cd3-7970f3d6c718",
   "metadata": {},
   "outputs": [
    {
     "name": "stdout",
     "output_type": "stream",
     "text": [
      "% of rows deleted=  4.484537418669155\n"
     ]
    }
   ],
   "source": [
    "print(\"% of rows deleted= \", ((orig_len-new_len)*100)/orig_len )"
   ]
  },
  {
   "cell_type": "code",
   "execution_count": 605,
   "id": "14ae203d-c9aa-4b54-8303-b323a7dd913a",
   "metadata": {},
   "outputs": [
    {
     "data": {
      "text/plain": [
       "loan_amnt               0.0\n",
       "funded_amnt             0.0\n",
       "funded_amnt_inv         0.0\n",
       "term                    0.0\n",
       "int_rate                0.0\n",
       "installment             0.0\n",
       "grade                   0.0\n",
       "sub_grade               0.0\n",
       "emp_length              0.0\n",
       "home_ownership          0.0\n",
       "annual_inc              0.0\n",
       "verification_status     0.0\n",
       "issue_d                 0.0\n",
       "loan_status             0.0\n",
       "purpose                 0.0\n",
       "addr_state              0.0\n",
       "dti                     0.0\n",
       "pub_rec                 0.0\n",
       "pub_rec_bankruptcies    0.0\n",
       "dtype: float64"
      ]
     },
     "execution_count": 605,
     "metadata": {},
     "output_type": "execute_result"
    }
   ],
   "source": [
    "# Reverifying the null values percentage\n",
    "(data.isna().sum()/len(data.index))*100"
   ]
  },
  {
   "cell_type": "markdown",
   "id": "ed40af78-cb21-4ada-8004-b042f13e776f",
   "metadata": {},
   "source": [
    "### b. Modifying values"
   ]
  },
  {
   "cell_type": "code",
   "execution_count": 608,
   "id": "620aec4f-84d3-450b-8fa3-1d39233ae414",
   "metadata": {},
   "outputs": [
    {
     "data": {
      "text/plain": [
       "loan_amnt                 int64\n",
       "funded_amnt               int64\n",
       "funded_amnt_inv         float64\n",
       "term                     object\n",
       "int_rate                 object\n",
       "installment             float64\n",
       "grade                    object\n",
       "sub_grade                object\n",
       "emp_length               object\n",
       "home_ownership           object\n",
       "annual_inc              float64\n",
       "verification_status      object\n",
       "issue_d                  object\n",
       "loan_status              object\n",
       "purpose                  object\n",
       "addr_state               object\n",
       "dti                     float64\n",
       "pub_rec                   int64\n",
       "pub_rec_bankruptcies    float64\n",
       "dtype: object"
      ]
     },
     "execution_count": 608,
     "metadata": {},
     "output_type": "execute_result"
    }
   ],
   "source": [
    "# Lets look at the data types for the columns. We can observe that some columns like term , int_rate , emp_length should\n",
    "# be of int type but are of object dtype\n",
    "data.dtypes "
   ]
  },
  {
   "cell_type": "code",
   "execution_count": 610,
   "id": "ce95b4b8-7a83-4e7e-8415-1071f22b5ec4",
   "metadata": {},
   "outputs": [
    {
     "data": {
      "text/html": [
       "<div>\n",
       "<style scoped>\n",
       "    .dataframe tbody tr th:only-of-type {\n",
       "        vertical-align: middle;\n",
       "    }\n",
       "\n",
       "    .dataframe tbody tr th {\n",
       "        vertical-align: top;\n",
       "    }\n",
       "\n",
       "    .dataframe thead th {\n",
       "        text-align: right;\n",
       "    }\n",
       "</style>\n",
       "<table border=\"1\" class=\"dataframe\">\n",
       "  <thead>\n",
       "    <tr style=\"text-align: right;\">\n",
       "      <th></th>\n",
       "      <th>loan_amnt</th>\n",
       "      <th>funded_amnt</th>\n",
       "      <th>funded_amnt_inv</th>\n",
       "      <th>term</th>\n",
       "      <th>int_rate</th>\n",
       "      <th>installment</th>\n",
       "      <th>grade</th>\n",
       "      <th>sub_grade</th>\n",
       "      <th>emp_length</th>\n",
       "      <th>home_ownership</th>\n",
       "      <th>annual_inc</th>\n",
       "      <th>verification_status</th>\n",
       "      <th>issue_d</th>\n",
       "      <th>loan_status</th>\n",
       "      <th>purpose</th>\n",
       "      <th>addr_state</th>\n",
       "      <th>dti</th>\n",
       "      <th>pub_rec</th>\n",
       "      <th>pub_rec_bankruptcies</th>\n",
       "    </tr>\n",
       "  </thead>\n",
       "  <tbody>\n",
       "    <tr>\n",
       "      <th>0</th>\n",
       "      <td>5000</td>\n",
       "      <td>5000</td>\n",
       "      <td>4975.0</td>\n",
       "      <td>36 months</td>\n",
       "      <td>10.65%</td>\n",
       "      <td>162.87</td>\n",
       "      <td>B</td>\n",
       "      <td>B2</td>\n",
       "      <td>10+ years</td>\n",
       "      <td>RENT</td>\n",
       "      <td>24000.0</td>\n",
       "      <td>Verified</td>\n",
       "      <td>Dec-11</td>\n",
       "      <td>Fully Paid</td>\n",
       "      <td>credit_card</td>\n",
       "      <td>AZ</td>\n",
       "      <td>27.65</td>\n",
       "      <td>0</td>\n",
       "      <td>0.0</td>\n",
       "    </tr>\n",
       "    <tr>\n",
       "      <th>1</th>\n",
       "      <td>2500</td>\n",
       "      <td>2500</td>\n",
       "      <td>2500.0</td>\n",
       "      <td>60 months</td>\n",
       "      <td>15.27%</td>\n",
       "      <td>59.83</td>\n",
       "      <td>C</td>\n",
       "      <td>C4</td>\n",
       "      <td>&lt; 1 year</td>\n",
       "      <td>RENT</td>\n",
       "      <td>30000.0</td>\n",
       "      <td>Source Verified</td>\n",
       "      <td>Dec-11</td>\n",
       "      <td>Charged Off</td>\n",
       "      <td>car</td>\n",
       "      <td>GA</td>\n",
       "      <td>1.00</td>\n",
       "      <td>0</td>\n",
       "      <td>0.0</td>\n",
       "    </tr>\n",
       "    <tr>\n",
       "      <th>2</th>\n",
       "      <td>2400</td>\n",
       "      <td>2400</td>\n",
       "      <td>2400.0</td>\n",
       "      <td>36 months</td>\n",
       "      <td>15.96%</td>\n",
       "      <td>84.33</td>\n",
       "      <td>C</td>\n",
       "      <td>C5</td>\n",
       "      <td>10+ years</td>\n",
       "      <td>RENT</td>\n",
       "      <td>12252.0</td>\n",
       "      <td>Not Verified</td>\n",
       "      <td>Dec-11</td>\n",
       "      <td>Fully Paid</td>\n",
       "      <td>small_business</td>\n",
       "      <td>IL</td>\n",
       "      <td>8.72</td>\n",
       "      <td>0</td>\n",
       "      <td>0.0</td>\n",
       "    </tr>\n",
       "    <tr>\n",
       "      <th>3</th>\n",
       "      <td>10000</td>\n",
       "      <td>10000</td>\n",
       "      <td>10000.0</td>\n",
       "      <td>36 months</td>\n",
       "      <td>13.49%</td>\n",
       "      <td>339.31</td>\n",
       "      <td>C</td>\n",
       "      <td>C1</td>\n",
       "      <td>10+ years</td>\n",
       "      <td>RENT</td>\n",
       "      <td>49200.0</td>\n",
       "      <td>Source Verified</td>\n",
       "      <td>Dec-11</td>\n",
       "      <td>Fully Paid</td>\n",
       "      <td>other</td>\n",
       "      <td>CA</td>\n",
       "      <td>20.00</td>\n",
       "      <td>0</td>\n",
       "      <td>0.0</td>\n",
       "    </tr>\n",
       "    <tr>\n",
       "      <th>5</th>\n",
       "      <td>5000</td>\n",
       "      <td>5000</td>\n",
       "      <td>5000.0</td>\n",
       "      <td>36 months</td>\n",
       "      <td>7.90%</td>\n",
       "      <td>156.46</td>\n",
       "      <td>A</td>\n",
       "      <td>A4</td>\n",
       "      <td>3 years</td>\n",
       "      <td>RENT</td>\n",
       "      <td>36000.0</td>\n",
       "      <td>Source Verified</td>\n",
       "      <td>Dec-11</td>\n",
       "      <td>Fully Paid</td>\n",
       "      <td>wedding</td>\n",
       "      <td>AZ</td>\n",
       "      <td>11.20</td>\n",
       "      <td>0</td>\n",
       "      <td>0.0</td>\n",
       "    </tr>\n",
       "  </tbody>\n",
       "</table>\n",
       "</div>"
      ],
      "text/plain": [
       "   loan_amnt  funded_amnt  funded_amnt_inv        term int_rate  installment  \\\n",
       "0       5000         5000           4975.0   36 months   10.65%       162.87   \n",
       "1       2500         2500           2500.0   60 months   15.27%        59.83   \n",
       "2       2400         2400           2400.0   36 months   15.96%        84.33   \n",
       "3      10000        10000          10000.0   36 months   13.49%       339.31   \n",
       "5       5000         5000           5000.0   36 months    7.90%       156.46   \n",
       "\n",
       "  grade sub_grade emp_length home_ownership  annual_inc verification_status  \\\n",
       "0     B        B2  10+ years           RENT     24000.0            Verified   \n",
       "1     C        C4   < 1 year           RENT     30000.0     Source Verified   \n",
       "2     C        C5  10+ years           RENT     12252.0        Not Verified   \n",
       "3     C        C1  10+ years           RENT     49200.0     Source Verified   \n",
       "5     A        A4    3 years           RENT     36000.0     Source Verified   \n",
       "\n",
       "  issue_d  loan_status         purpose addr_state    dti  pub_rec  \\\n",
       "0  Dec-11   Fully Paid     credit_card         AZ  27.65        0   \n",
       "1  Dec-11  Charged Off             car         GA   1.00        0   \n",
       "2  Dec-11   Fully Paid  small_business         IL   8.72        0   \n",
       "3  Dec-11   Fully Paid           other         CA  20.00        0   \n",
       "5  Dec-11   Fully Paid         wedding         AZ  11.20        0   \n",
       "\n",
       "   pub_rec_bankruptcies  \n",
       "0                   0.0  \n",
       "1                   0.0  \n",
       "2                   0.0  \n",
       "3                   0.0  \n",
       "5                   0.0  "
      ]
     },
     "execution_count": 610,
     "metadata": {},
     "output_type": "execute_result"
    }
   ],
   "source": [
    "data.head()"
   ]
  },
  {
   "cell_type": "code",
   "execution_count": 612,
   "id": "1ddd6c0b-8d5f-4ff6-b238-c96e6306be43",
   "metadata": {},
   "outputs": [
    {
     "data": {
      "text/plain": [
       "emp_length\n",
       "10+ years    8369\n",
       "< 1 year     4341\n",
       "2 years      4207\n",
       "3 years      3951\n",
       "4 years      3297\n",
       "5 years      3161\n",
       "1 year       3077\n",
       "6 years      2136\n",
       "7 years      1689\n",
       "8 years      1410\n",
       "9 years      1209\n",
       "Name: count, dtype: int64"
      ]
     },
     "execution_count": 612,
     "metadata": {},
     "output_type": "execute_result"
    }
   ],
   "source": [
    "data.emp_length.value_counts()"
   ]
  },
  {
   "cell_type": "code",
   "execution_count": 614,
   "id": "f7b42b1a-a867-4573-a6ba-6b2d8e5a8054",
   "metadata": {},
   "outputs": [],
   "source": [
    "# Look at the above rows. We can see that \n",
    "# a. term: has string 'months' as the part of the string. We can remove the string \"term\" and keep the numerical part as int dtype\n",
    "# b. int_rate : has % at the part of data. We need to get rid of that.\n",
    "# c. emp_length : this has values as '10+ years' and '< 1' years. We can modify this as below:\n",
    "#     '10+ years' as 10   => 10+ years is assumed as 10\n",
    "#     '< 1' as 0   ==> (< 1 year) is assumed as 0"
   ]
  },
  {
   "cell_type": "code",
   "execution_count": 616,
   "id": "6328dd1b-3c6f-4bf2-aac1-01511f1f9b63",
   "metadata": {},
   "outputs": [
    {
     "data": {
      "text/html": [
       "<div>\n",
       "<style scoped>\n",
       "    .dataframe tbody tr th:only-of-type {\n",
       "        vertical-align: middle;\n",
       "    }\n",
       "\n",
       "    .dataframe tbody tr th {\n",
       "        vertical-align: top;\n",
       "    }\n",
       "\n",
       "    .dataframe thead th {\n",
       "        text-align: right;\n",
       "    }\n",
       "</style>\n",
       "<table border=\"1\" class=\"dataframe\">\n",
       "  <thead>\n",
       "    <tr style=\"text-align: right;\">\n",
       "      <th></th>\n",
       "      <th>loan_amnt</th>\n",
       "      <th>funded_amnt</th>\n",
       "      <th>funded_amnt_inv</th>\n",
       "      <th>term</th>\n",
       "      <th>int_rate</th>\n",
       "      <th>installment</th>\n",
       "      <th>grade</th>\n",
       "      <th>sub_grade</th>\n",
       "      <th>emp_length</th>\n",
       "      <th>home_ownership</th>\n",
       "      <th>annual_inc</th>\n",
       "      <th>verification_status</th>\n",
       "      <th>issue_d</th>\n",
       "      <th>loan_status</th>\n",
       "      <th>purpose</th>\n",
       "      <th>addr_state</th>\n",
       "      <th>dti</th>\n",
       "      <th>pub_rec</th>\n",
       "      <th>pub_rec_bankruptcies</th>\n",
       "    </tr>\n",
       "  </thead>\n",
       "  <tbody>\n",
       "    <tr>\n",
       "      <th>0</th>\n",
       "      <td>5000</td>\n",
       "      <td>5000</td>\n",
       "      <td>4975.0</td>\n",
       "      <td>36</td>\n",
       "      <td>10.65%</td>\n",
       "      <td>162.87</td>\n",
       "      <td>B</td>\n",
       "      <td>B2</td>\n",
       "      <td>10+ years</td>\n",
       "      <td>RENT</td>\n",
       "      <td>24000.0</td>\n",
       "      <td>Verified</td>\n",
       "      <td>Dec-11</td>\n",
       "      <td>Fully Paid</td>\n",
       "      <td>credit_card</td>\n",
       "      <td>AZ</td>\n",
       "      <td>27.65</td>\n",
       "      <td>0</td>\n",
       "      <td>0.0</td>\n",
       "    </tr>\n",
       "    <tr>\n",
       "      <th>1</th>\n",
       "      <td>2500</td>\n",
       "      <td>2500</td>\n",
       "      <td>2500.0</td>\n",
       "      <td>60</td>\n",
       "      <td>15.27%</td>\n",
       "      <td>59.83</td>\n",
       "      <td>C</td>\n",
       "      <td>C4</td>\n",
       "      <td>&lt; 1 year</td>\n",
       "      <td>RENT</td>\n",
       "      <td>30000.0</td>\n",
       "      <td>Source Verified</td>\n",
       "      <td>Dec-11</td>\n",
       "      <td>Charged Off</td>\n",
       "      <td>car</td>\n",
       "      <td>GA</td>\n",
       "      <td>1.00</td>\n",
       "      <td>0</td>\n",
       "      <td>0.0</td>\n",
       "    </tr>\n",
       "    <tr>\n",
       "      <th>2</th>\n",
       "      <td>2400</td>\n",
       "      <td>2400</td>\n",
       "      <td>2400.0</td>\n",
       "      <td>36</td>\n",
       "      <td>15.96%</td>\n",
       "      <td>84.33</td>\n",
       "      <td>C</td>\n",
       "      <td>C5</td>\n",
       "      <td>10+ years</td>\n",
       "      <td>RENT</td>\n",
       "      <td>12252.0</td>\n",
       "      <td>Not Verified</td>\n",
       "      <td>Dec-11</td>\n",
       "      <td>Fully Paid</td>\n",
       "      <td>small_business</td>\n",
       "      <td>IL</td>\n",
       "      <td>8.72</td>\n",
       "      <td>0</td>\n",
       "      <td>0.0</td>\n",
       "    </tr>\n",
       "    <tr>\n",
       "      <th>3</th>\n",
       "      <td>10000</td>\n",
       "      <td>10000</td>\n",
       "      <td>10000.0</td>\n",
       "      <td>36</td>\n",
       "      <td>13.49%</td>\n",
       "      <td>339.31</td>\n",
       "      <td>C</td>\n",
       "      <td>C1</td>\n",
       "      <td>10+ years</td>\n",
       "      <td>RENT</td>\n",
       "      <td>49200.0</td>\n",
       "      <td>Source Verified</td>\n",
       "      <td>Dec-11</td>\n",
       "      <td>Fully Paid</td>\n",
       "      <td>other</td>\n",
       "      <td>CA</td>\n",
       "      <td>20.00</td>\n",
       "      <td>0</td>\n",
       "      <td>0.0</td>\n",
       "    </tr>\n",
       "    <tr>\n",
       "      <th>5</th>\n",
       "      <td>5000</td>\n",
       "      <td>5000</td>\n",
       "      <td>5000.0</td>\n",
       "      <td>36</td>\n",
       "      <td>7.90%</td>\n",
       "      <td>156.46</td>\n",
       "      <td>A</td>\n",
       "      <td>A4</td>\n",
       "      <td>3 years</td>\n",
       "      <td>RENT</td>\n",
       "      <td>36000.0</td>\n",
       "      <td>Source Verified</td>\n",
       "      <td>Dec-11</td>\n",
       "      <td>Fully Paid</td>\n",
       "      <td>wedding</td>\n",
       "      <td>AZ</td>\n",
       "      <td>11.20</td>\n",
       "      <td>0</td>\n",
       "      <td>0.0</td>\n",
       "    </tr>\n",
       "  </tbody>\n",
       "</table>\n",
       "</div>"
      ],
      "text/plain": [
       "   loan_amnt  funded_amnt  funded_amnt_inv  term int_rate  installment grade  \\\n",
       "0       5000         5000           4975.0    36   10.65%       162.87     B   \n",
       "1       2500         2500           2500.0    60   15.27%        59.83     C   \n",
       "2       2400         2400           2400.0    36   15.96%        84.33     C   \n",
       "3      10000        10000          10000.0    36   13.49%       339.31     C   \n",
       "5       5000         5000           5000.0    36    7.90%       156.46     A   \n",
       "\n",
       "  sub_grade emp_length home_ownership  annual_inc verification_status issue_d  \\\n",
       "0        B2  10+ years           RENT     24000.0            Verified  Dec-11   \n",
       "1        C4   < 1 year           RENT     30000.0     Source Verified  Dec-11   \n",
       "2        C5  10+ years           RENT     12252.0        Not Verified  Dec-11   \n",
       "3        C1  10+ years           RENT     49200.0     Source Verified  Dec-11   \n",
       "5        A4    3 years           RENT     36000.0     Source Verified  Dec-11   \n",
       "\n",
       "   loan_status         purpose addr_state    dti  pub_rec  \\\n",
       "0   Fully Paid     credit_card         AZ  27.65        0   \n",
       "1  Charged Off             car         GA   1.00        0   \n",
       "2   Fully Paid  small_business         IL   8.72        0   \n",
       "3   Fully Paid           other         CA  20.00        0   \n",
       "5   Fully Paid         wedding         AZ  11.20        0   \n",
       "\n",
       "   pub_rec_bankruptcies  \n",
       "0                   0.0  \n",
       "1                   0.0  \n",
       "2                   0.0  \n",
       "3                   0.0  \n",
       "5                   0.0  "
      ]
     },
     "execution_count": 616,
     "metadata": {},
     "output_type": "execute_result"
    }
   ],
   "source": [
    "# Performing operation a\n",
    "def RemoveMonthsString(val):\n",
    "    val = int(val.strip().split()[0])\n",
    "    return val\n",
    "data['term'] = data['term'].apply(RemoveMonthsString)\n",
    "data.head()"
   ]
  },
  {
   "cell_type": "code",
   "execution_count": 618,
   "id": "2a441126-0357-4248-9481-80b0623b4d16",
   "metadata": {},
   "outputs": [],
   "source": [
    "# Performing operation b\n",
    "def RemovePercentString(val):\n",
    "    return float(val.strip('%'))\n",
    "\n",
    "data['int_rate'] = data['int_rate'].apply(RemovePercentString)\n",
    "#data.head()"
   ]
  },
  {
   "cell_type": "code",
   "execution_count": 620,
   "id": "555e1f09-03b0-4279-9cda-d522e3000afc",
   "metadata": {},
   "outputs": [],
   "source": [
    "# Performing operation c\n",
    "def ModifyEmpLength(val):\n",
    "    val = val.strip().strip('years')\n",
    "    val = val.strip().strip('year')\n",
    "    if val == \"10+\":\n",
    "        val = 10\n",
    "    elif val ==  \"< 1\":\n",
    "        val = 0\n",
    "    else:\n",
    "        val = int(val)\n",
    "    return val\n",
    "\n",
    "data['emp_length'] = data['emp_length'].apply(ModifyEmpLength)"
   ]
  },
  {
   "cell_type": "code",
   "execution_count": 622,
   "id": "c83c3f5b-6d89-43ad-aca3-0601aa1e5e93",
   "metadata": {},
   "outputs": [],
   "source": [
    "#data.head()\n",
    "#data.emp_length.value_counts()"
   ]
  },
  {
   "cell_type": "code",
   "execution_count": 624,
   "id": "2f1c94c8-513d-4c48-88d3-f4a5e275d525",
   "metadata": {},
   "outputs": [
    {
     "data": {
      "text/plain": [
       "loan_amnt                 int64\n",
       "funded_amnt               int64\n",
       "funded_amnt_inv         float64\n",
       "term                      int64\n",
       "int_rate                float64\n",
       "installment             float64\n",
       "grade                    object\n",
       "sub_grade                object\n",
       "emp_length                int64\n",
       "home_ownership           object\n",
       "annual_inc              float64\n",
       "verification_status      object\n",
       "issue_d                  object\n",
       "loan_status              object\n",
       "purpose                  object\n",
       "addr_state               object\n",
       "dti                     float64\n",
       "pub_rec                   int64\n",
       "pub_rec_bankruptcies    float64\n",
       "dtype: object"
      ]
     },
     "execution_count": 624,
     "metadata": {},
     "output_type": "execute_result"
    }
   ],
   "source": [
    "data.dtypes"
   ]
  },
  {
   "cell_type": "markdown",
   "id": "9d0bc093-d000-44d5-86b2-cc1274ad60d4",
   "metadata": {},
   "source": [
    "### c. Deriving columns"
   ]
  },
  {
   "cell_type": "code",
   "execution_count": 627,
   "id": "6d1eabaf-954c-40f8-b1a3-e0c037580357",
   "metadata": {},
   "outputs": [],
   "source": [
    "# We can see that coluns issue_d is having data as MONTH-Year format.\n",
    "# So we can derive month and year as seperate columns from this for better analysis"
   ]
  },
  {
   "cell_type": "code",
   "execution_count": 629,
   "id": "ebfd57d8-ae07-4155-bc21-dc4275bc29c2",
   "metadata": {},
   "outputs": [],
   "source": [
    "data['issue_month'] = pd.to_datetime(data['issue_d'], format='%b-%y').dt.month\n",
    "data['issue_year'] = pd.to_datetime(data['issue_d'], format='%b-%y').dt.year"
   ]
  },
  {
   "cell_type": "code",
   "execution_count": 631,
   "id": "92d4ee74-4eda-41d7-905e-5722a68ad7de",
   "metadata": {},
   "outputs": [
    {
     "data": {
      "text/plain": [
       "(36847, 21)"
      ]
     },
     "execution_count": 631,
     "metadata": {},
     "output_type": "execute_result"
    }
   ],
   "source": [
    "#data.head()\n",
    "data.shape"
   ]
  },
  {
   "cell_type": "markdown",
   "id": "25be414a-f3d0-43c9-93a4-0e45a394ee16",
   "metadata": {},
   "source": [
    "### d. Handling outliers"
   ]
  },
  {
   "cell_type": "markdown",
   "id": "8016dd6f-b9af-4721-a3e5-1be5a9f3b604",
   "metadata": {},
   "source": [
    "#### i. Plotting box plot for the numerical columns"
   ]
  },
  {
   "cell_type": "code",
   "execution_count": 635,
   "id": "a80bec93-d30f-4158-86c3-84c6226f5570",
   "metadata": {},
   "outputs": [
    {
     "data": {
      "image/png": "[encoded data removed]",
      "text/plain": [
       "<Figure size 640x480 with 1 Axes>"
      ]
     },
     "metadata": {},
     "output_type": "display_data"
    }
   ],
   "source": [
    "sns.boxplot([data['loan_amnt'], data['funded_amnt'], data['funded_amnt_inv']], orient=\"h\")\n",
    "plt.show()"
   ]
  },
  {
   "cell_type": "code",
   "execution_count": 636,
   "id": "b56593be-7ead-464b-b8ab-978d8da8e73a",
   "metadata": {},
   "outputs": [
    {
     "data": {
      "image/png": "[encoded data removed]",
      "text/plain": [
       "<Figure size 640x480 with 1 Axes>"
      ]
     },
     "metadata": {},
     "output_type": "display_data"
    }
   ],
   "source": [
    "sns.boxplot([data['int_rate']], orient=\"h\")\n",
    "plt.show()"
   ]
  },
  {
   "cell_type": "code",
   "execution_count": 637,
   "id": "423cfbbf-633a-4784-8853-e332c120e564",
   "metadata": {},
   "outputs": [
    {
     "data": {
      "image/png": "[encoded data removed]",
      "text/plain": [
       "<Figure size 640x480 with 1 Axes>"
      ]
     },
     "metadata": {},
     "output_type": "display_data"
    }
   ],
   "source": [
    "sns.boxplot([data['annual_inc']], orient=\"h\")\n",
    "plt.show()"
   ]
  },
  {
   "cell_type": "code",
   "execution_count": 639,
   "id": "0b1ab5ba-ef5b-4c89-917c-8010eb5a1596",
   "metadata": {},
   "outputs": [
    {
     "data": {
      "image/png": "[encoded data removed]",
      "text/plain": [
       "<Figure size 640x480 with 1 Axes>"
      ]
     },
     "metadata": {},
     "output_type": "display_data"
    }
   ],
   "source": [
    "sns.boxplot([data['dti']], orient=\"h\")\n",
    "plt.show()"
   ]
  },
  {
   "cell_type": "markdown",
   "id": "5367fc39-d284-4ebf-bcfe-37a1e7e43dd0",
   "metadata": {},
   "source": [
    "#### ii. Removing outliers by IQR method"
   ]
  },
  {
   "cell_type": "markdown",
   "id": "b4bf6e11-0e8e-4852-96a1-8bd8912e9f6e",
   "metadata": {},
   "source": [
    "#### We can see that there are outliers present in the data for almost all the numerical columns except dti\n",
    "- Lets use IQR method to handle outliers in the data using threshold as 1.5\n",
    "- Reason : The IQR focuses on the middle 50% of the data (the range between the first quartile, Q1, and the third quartile, Q3). This means it is less influenced by extreme values or outliers, making it a robust measure of variability."
   ]
  },
  {
   "cell_type": "code",
   "execution_count": 642,
   "id": "cf4b9fcc-b882-4df6-b4ca-04c39802c3f3",
   "metadata": {},
   "outputs": [
    {
     "data": {
      "text/plain": [
       "(33193, 21)"
      ]
     },
     "execution_count": 642,
     "metadata": {},
     "output_type": "execute_result"
    }
   ],
   "source": [
    "def RemoveOutliersByIQR(data, column):\n",
    "    Q1 = data[column].quantile(0.25)\n",
    "    Q3 = data[column].quantile(0.75)\n",
    "    IQR = Q3-Q1\n",
    "    low = Q1 - 1.5 * IQR\n",
    "    high = Q3 + 1.5 * IQR\n",
    "    data = data [ (data[column] >= low) & (data[column] <= high) ]\n",
    "    return data\n",
    "\n",
    "columns = [ 'annual_inc', 'loan_amnt', 'funded_amnt', 'funded_amnt_inv', 'int_rate', 'installment' ]\n",
    "for col in columns:\n",
    "    data = RemoveOutliersByIQR(data, col)\n",
    "data.shape"
   ]
  },
  {
   "cell_type": "markdown",
   "id": "9852ebbd-604b-4795-984f-89384f3405a8",
   "metadata": {},
   "source": [
    "#### Lets verify box plot once again"
   ]
  },
  {
   "cell_type": "code",
   "execution_count": 646,
   "id": "501cf46f-13a4-4d02-a5ac-681fb9690001",
   "metadata": {},
   "outputs": [
    {
     "data": {
      "image/png": "[encoded data removed]",
      "text/plain": [
       "<Figure size 640x480 with 1 Axes>"
      ]
     },
     "metadata": {},
     "output_type": "display_data"
    }
   ],
   "source": [
    "\n",
    "sns.boxplot([data['annual_inc']], orient=\"h\")\n",
    "plt.show()"
   ]
  },
  {
   "cell_type": "code",
   "execution_count": 649,
   "id": "c86750bc-d515-4064-82b5-994c1ad43fd7",
   "metadata": {},
   "outputs": [
    {
     "data": {
      "image/png": "[encoded data removed]",
      "text/plain": [
       "<Figure size 640x480 with 1 Axes>"
      ]
     },
     "metadata": {},
     "output_type": "display_data"
    }
   ],
   "source": [
    "sns.boxplot([data['loan_amnt'], data['funded_amnt'], data['funded_amnt_inv']], orient=\"h\")\n",
    "plt.show()"
   ]
  },
  {
   "cell_type": "code",
   "execution_count": 650,
   "id": "ca205b5f-5b74-4ef3-af7c-bacfea3dcf61",
   "metadata": {},
   "outputs": [
    {
     "data": {
      "image/png": "[encoded data removed]",
      "text/plain": [
       "<Figure size 640x480 with 1 Axes>"
      ]
     },
     "metadata": {},
     "output_type": "display_data"
    }
   ],
   "source": [
    "sns.boxplot([data['dti']], orient=\"h\")\n",
    "plt.show()"
   ]
  },
  {
   "cell_type": "markdown",
   "id": "5c2749bf-bd9a-4332-8d9e-2a18fd68e839",
   "metadata": {},
   "source": [
    "### Categorizing the columns\n",
    "Since the columns `loan_amnt`, `funded_amnt`, and `funded_amnt_inv`,  `int_rate` contain numeric values, analyzing them as discrete values \n",
    "can be challenging. It would be more effective to categorize them into buckets for easier analysis.\n",
    " So lets bucketize the columns into a new columns"
   ]
  },
  {
   "cell_type": "code",
   "execution_count": 653,
   "id": "0f19d45a-efe3-4a9e-9f45-20859717f6e6",
   "metadata": {},
   "outputs": [
    {
     "data": {
      "text/plain": [
       "count    33193.000000\n",
       "mean      9771.728226\n",
       "std       5748.814573\n",
       "min        500.000000\n",
       "25%       5000.000000\n",
       "50%       8875.000000\n",
       "75%      13600.000000\n",
       "max      29500.000000\n",
       "Name: loan_amnt, dtype: float64"
      ]
     },
     "execution_count": 653,
     "metadata": {},
     "output_type": "execute_result"
    }
   ],
   "source": [
    "data.loan_amnt.describe()"
   ]
  },
  {
   "cell_type": "code",
   "execution_count": 655,
   "id": "15b9d789-dbb4-45fd-b66d-9c5f1f5f3474",
   "metadata": {},
   "outputs": [],
   "source": [
    "# From above data for loan_amt we can see that most of the loan amout are between 5k to 13k (25% - 75%) quartile\n",
    "# So lets bucktize them as follow:\n",
    "# [0-5k] , (5k - 10k], (10k-15k], >15"
   ]
  },
  {
   "cell_type": "code",
   "execution_count": 659,
   "id": "16aa7857-f361-4524-969f-9a2477b46dfa",
   "metadata": {},
   "outputs": [
    {
     "data": {
      "text/html": [
       "<div>\n",
       "<style scoped>\n",
       "    .dataframe tbody tr th:only-of-type {\n",
       "        vertical-align: middle;\n",
       "    }\n",
       "\n",
       "    .dataframe tbody tr th {\n",
       "        vertical-align: top;\n",
       "    }\n",
       "\n",
       "    .dataframe thead th {\n",
       "        text-align: right;\n",
       "    }\n",
       "</style>\n",
       "<table border=\"1\" class=\"dataframe\">\n",
       "  <thead>\n",
       "    <tr style=\"text-align: right;\">\n",
       "      <th></th>\n",
       "      <th>loan_amnt</th>\n",
       "      <th>funded_amnt</th>\n",
       "      <th>funded_amnt_inv</th>\n",
       "      <th>term</th>\n",
       "      <th>int_rate</th>\n",
       "      <th>installment</th>\n",
       "      <th>grade</th>\n",
       "      <th>sub_grade</th>\n",
       "      <th>emp_length</th>\n",
       "      <th>home_ownership</th>\n",
       "      <th>...</th>\n",
       "      <th>issue_d</th>\n",
       "      <th>loan_status</th>\n",
       "      <th>purpose</th>\n",
       "      <th>addr_state</th>\n",
       "      <th>dti</th>\n",
       "      <th>pub_rec</th>\n",
       "      <th>pub_rec_bankruptcies</th>\n",
       "      <th>issue_month</th>\n",
       "      <th>issue_year</th>\n",
       "      <th>loan_amnt_bucket</th>\n",
       "    </tr>\n",
       "  </thead>\n",
       "  <tbody>\n",
       "    <tr>\n",
       "      <th>0</th>\n",
       "      <td>5000</td>\n",
       "      <td>5000</td>\n",
       "      <td>4975.0</td>\n",
       "      <td>36</td>\n",
       "      <td>10.65</td>\n",
       "      <td>162.87</td>\n",
       "      <td>B</td>\n",
       "      <td>B2</td>\n",
       "      <td>10</td>\n",
       "      <td>RENT</td>\n",
       "      <td>...</td>\n",
       "      <td>Dec-11</td>\n",
       "      <td>Fully Paid</td>\n",
       "      <td>credit_card</td>\n",
       "      <td>AZ</td>\n",
       "      <td>27.65</td>\n",
       "      <td>0</td>\n",
       "      <td>0.0</td>\n",
       "      <td>12</td>\n",
       "      <td>2011</td>\n",
       "      <td>0-5k</td>\n",
       "    </tr>\n",
       "    <tr>\n",
       "      <th>1</th>\n",
       "      <td>2500</td>\n",
       "      <td>2500</td>\n",
       "      <td>2500.0</td>\n",
       "      <td>60</td>\n",
       "      <td>15.27</td>\n",
       "      <td>59.83</td>\n",
       "      <td>C</td>\n",
       "      <td>C4</td>\n",
       "      <td>0</td>\n",
       "      <td>RENT</td>\n",
       "      <td>...</td>\n",
       "      <td>Dec-11</td>\n",
       "      <td>Charged Off</td>\n",
       "      <td>car</td>\n",
       "      <td>GA</td>\n",
       "      <td>1.00</td>\n",
       "      <td>0</td>\n",
       "      <td>0.0</td>\n",
       "      <td>12</td>\n",
       "      <td>2011</td>\n",
       "      <td>0-5k</td>\n",
       "    </tr>\n",
       "    <tr>\n",
       "      <th>2</th>\n",
       "      <td>2400</td>\n",
       "      <td>2400</td>\n",
       "      <td>2400.0</td>\n",
       "      <td>36</td>\n",
       "      <td>15.96</td>\n",
       "      <td>84.33</td>\n",
       "      <td>C</td>\n",
       "      <td>C5</td>\n",
       "      <td>10</td>\n",
       "      <td>RENT</td>\n",
       "      <td>...</td>\n",
       "      <td>Dec-11</td>\n",
       "      <td>Fully Paid</td>\n",
       "      <td>small_business</td>\n",
       "      <td>IL</td>\n",
       "      <td>8.72</td>\n",
       "      <td>0</td>\n",
       "      <td>0.0</td>\n",
       "      <td>12</td>\n",
       "      <td>2011</td>\n",
       "      <td>0-5k</td>\n",
       "    </tr>\n",
       "    <tr>\n",
       "      <th>3</th>\n",
       "      <td>10000</td>\n",
       "      <td>10000</td>\n",
       "      <td>10000.0</td>\n",
       "      <td>36</td>\n",
       "      <td>13.49</td>\n",
       "      <td>339.31</td>\n",
       "      <td>C</td>\n",
       "      <td>C1</td>\n",
       "      <td>10</td>\n",
       "      <td>RENT</td>\n",
       "      <td>...</td>\n",
       "      <td>Dec-11</td>\n",
       "      <td>Fully Paid</td>\n",
       "      <td>other</td>\n",
       "      <td>CA</td>\n",
       "      <td>20.00</td>\n",
       "      <td>0</td>\n",
       "      <td>0.0</td>\n",
       "      <td>12</td>\n",
       "      <td>2011</td>\n",
       "      <td>5k-10k</td>\n",
       "    </tr>\n",
       "    <tr>\n",
       "      <th>5</th>\n",
       "      <td>5000</td>\n",
       "      <td>5000</td>\n",
       "      <td>5000.0</td>\n",
       "      <td>36</td>\n",
       "      <td>7.90</td>\n",
       "      <td>156.46</td>\n",
       "      <td>A</td>\n",
       "      <td>A4</td>\n",
       "      <td>3</td>\n",
       "      <td>RENT</td>\n",
       "      <td>...</td>\n",
       "      <td>Dec-11</td>\n",
       "      <td>Fully Paid</td>\n",
       "      <td>wedding</td>\n",
       "      <td>AZ</td>\n",
       "      <td>11.20</td>\n",
       "      <td>0</td>\n",
       "      <td>0.0</td>\n",
       "      <td>12</td>\n",
       "      <td>2011</td>\n",
       "      <td>0-5k</td>\n",
       "    </tr>\n",
       "  </tbody>\n",
       "</table>\n",
       "<p>5 rows × 22 columns</p>\n",
       "</div>"
      ],
      "text/plain": [
       "   loan_amnt  funded_amnt  funded_amnt_inv  term  int_rate  installment grade  \\\n",
       "0       5000         5000           4975.0    36     10.65       162.87     B   \n",
       "1       2500         2500           2500.0    60     15.27        59.83     C   \n",
       "2       2400         2400           2400.0    36     15.96        84.33     C   \n",
       "3      10000        10000          10000.0    36     13.49       339.31     C   \n",
       "5       5000         5000           5000.0    36      7.90       156.46     A   \n",
       "\n",
       "  sub_grade  emp_length home_ownership  ...  issue_d  loan_status  \\\n",
       "0        B2          10           RENT  ...   Dec-11   Fully Paid   \n",
       "1        C4           0           RENT  ...   Dec-11  Charged Off   \n",
       "2        C5          10           RENT  ...   Dec-11   Fully Paid   \n",
       "3        C1          10           RENT  ...   Dec-11   Fully Paid   \n",
       "5        A4           3           RENT  ...   Dec-11   Fully Paid   \n",
       "\n",
       "          purpose addr_state    dti pub_rec  pub_rec_bankruptcies  \\\n",
       "0     credit_card         AZ  27.65       0                   0.0   \n",
       "1             car         GA   1.00       0                   0.0   \n",
       "2  small_business         IL   8.72       0                   0.0   \n",
       "3           other         CA  20.00       0                   0.0   \n",
       "5         wedding         AZ  11.20       0                   0.0   \n",
       "\n",
       "   issue_month  issue_year  loan_amnt_bucket  \n",
       "0           12        2011              0-5k  \n",
       "1           12        2011              0-5k  \n",
       "2           12        2011              0-5k  \n",
       "3           12        2011            5k-10k  \n",
       "5           12        2011              0-5k  \n",
       "\n",
       "[5 rows x 22 columns]"
      ]
     },
     "execution_count": 659,
     "metadata": {},
     "output_type": "execute_result"
    }
   ],
   "source": [
    "def BucketizeLoanAmount(val):\n",
    "    if val <= 5000:\n",
    "        return \"0-5k\"\n",
    "    elif val >5000 and val <=10000:\n",
    "        return \"5k-10k\"\n",
    "    elif val >10000 and val <=15000:\n",
    "        return \"10k-15k\"\n",
    "    else:\n",
    "        return \"15k-above\"\n",
    "data['loan_amnt_bucket'] = data['loan_amnt'].apply(BucketizeLoanAmount)\n",
    "data.head()"
   ]
  },
  {
   "cell_type": "code",
   "execution_count": 661,
   "id": "d6e65d09-65c6-4e4d-9524-85180b9d0eb5",
   "metadata": {},
   "outputs": [
    {
     "data": {
      "text/plain": [
       "count    33193.000000\n",
       "mean        11.773443\n",
       "std          3.586094\n",
       "min          5.420000\n",
       "25%          8.900000\n",
       "50%         11.710000\n",
       "75%         14.260000\n",
       "max         22.110000\n",
       "Name: int_rate, dtype: float64"
      ]
     },
     "execution_count": 661,
     "metadata": {},
     "output_type": "execute_result"
    }
   ],
   "source": [
    "data.int_rate.describe()"
   ]
  },
  {
   "cell_type": "code",
   "execution_count": 663,
   "id": "0fd6561a-3bea-4d27-8b3e-8b92a9d28365",
   "metadata": {},
   "outputs": [],
   "source": [
    "# From above data for `int_rate` we can see that the most of the int_rate are between 8 to 14 (0.25 - 0.75) quartile\n",
    "# So lets bucktize them as follow:\n",
    "# int_rate <= 8: very low\n",
    "# 8 < int_rate <= 12 : low\n",
    "# 12 < int_rate <= 16 : moderate\n",
    "# 16 < int_rate <=20 : high\n",
    "# int_rate > 20 : very high\n"
   ]
  },
  {
   "cell_type": "code",
   "execution_count": 665,
   "id": "b10da363-e0f9-4931-9991-c29f9ede8315",
   "metadata": {},
   "outputs": [
    {
     "data": {
      "text/html": [
       "<div>\n",
       "<style scoped>\n",
       "    .dataframe tbody tr th:only-of-type {\n",
       "        vertical-align: middle;\n",
       "    }\n",
       "\n",
       "    .dataframe tbody tr th {\n",
       "        vertical-align: top;\n",
       "    }\n",
       "\n",
       "    .dataframe thead th {\n",
       "        text-align: right;\n",
       "    }\n",
       "</style>\n",
       "<table border=\"1\" class=\"dataframe\">\n",
       "  <thead>\n",
       "    <tr style=\"text-align: right;\">\n",
       "      <th></th>\n",
       "      <th>loan_amnt</th>\n",
       "      <th>funded_amnt</th>\n",
       "      <th>funded_amnt_inv</th>\n",
       "      <th>term</th>\n",
       "      <th>int_rate</th>\n",
       "      <th>installment</th>\n",
       "      <th>grade</th>\n",
       "      <th>sub_grade</th>\n",
       "      <th>emp_length</th>\n",
       "      <th>home_ownership</th>\n",
       "      <th>...</th>\n",
       "      <th>loan_status</th>\n",
       "      <th>purpose</th>\n",
       "      <th>addr_state</th>\n",
       "      <th>dti</th>\n",
       "      <th>pub_rec</th>\n",
       "      <th>pub_rec_bankruptcies</th>\n",
       "      <th>issue_month</th>\n",
       "      <th>issue_year</th>\n",
       "      <th>loan_amnt_bucket</th>\n",
       "      <th>int_rate_bucket</th>\n",
       "    </tr>\n",
       "  </thead>\n",
       "  <tbody>\n",
       "    <tr>\n",
       "      <th>0</th>\n",
       "      <td>5000</td>\n",
       "      <td>5000</td>\n",
       "      <td>4975.0</td>\n",
       "      <td>36</td>\n",
       "      <td>10.65</td>\n",
       "      <td>162.87</td>\n",
       "      <td>B</td>\n",
       "      <td>B2</td>\n",
       "      <td>10</td>\n",
       "      <td>RENT</td>\n",
       "      <td>...</td>\n",
       "      <td>Fully Paid</td>\n",
       "      <td>credit_card</td>\n",
       "      <td>AZ</td>\n",
       "      <td>27.65</td>\n",
       "      <td>0</td>\n",
       "      <td>0.0</td>\n",
       "      <td>12</td>\n",
       "      <td>2011</td>\n",
       "      <td>0-5k</td>\n",
       "      <td>Low</td>\n",
       "    </tr>\n",
       "    <tr>\n",
       "      <th>1</th>\n",
       "      <td>2500</td>\n",
       "      <td>2500</td>\n",
       "      <td>2500.0</td>\n",
       "      <td>60</td>\n",
       "      <td>15.27</td>\n",
       "      <td>59.83</td>\n",
       "      <td>C</td>\n",
       "      <td>C4</td>\n",
       "      <td>0</td>\n",
       "      <td>RENT</td>\n",
       "      <td>...</td>\n",
       "      <td>Charged Off</td>\n",
       "      <td>car</td>\n",
       "      <td>GA</td>\n",
       "      <td>1.00</td>\n",
       "      <td>0</td>\n",
       "      <td>0.0</td>\n",
       "      <td>12</td>\n",
       "      <td>2011</td>\n",
       "      <td>0-5k</td>\n",
       "      <td>Moderate</td>\n",
       "    </tr>\n",
       "    <tr>\n",
       "      <th>2</th>\n",
       "      <td>2400</td>\n",
       "      <td>2400</td>\n",
       "      <td>2400.0</td>\n",
       "      <td>36</td>\n",
       "      <td>15.96</td>\n",
       "      <td>84.33</td>\n",
       "      <td>C</td>\n",
       "      <td>C5</td>\n",
       "      <td>10</td>\n",
       "      <td>RENT</td>\n",
       "      <td>...</td>\n",
       "      <td>Fully Paid</td>\n",
       "      <td>small_business</td>\n",
       "      <td>IL</td>\n",
       "      <td>8.72</td>\n",
       "      <td>0</td>\n",
       "      <td>0.0</td>\n",
       "      <td>12</td>\n",
       "      <td>2011</td>\n",
       "      <td>0-5k</td>\n",
       "      <td>Moderate</td>\n",
       "    </tr>\n",
       "    <tr>\n",
       "      <th>3</th>\n",
       "      <td>10000</td>\n",
       "      <td>10000</td>\n",
       "      <td>10000.0</td>\n",
       "      <td>36</td>\n",
       "      <td>13.49</td>\n",
       "      <td>339.31</td>\n",
       "      <td>C</td>\n",
       "      <td>C1</td>\n",
       "      <td>10</td>\n",
       "      <td>RENT</td>\n",
       "      <td>...</td>\n",
       "      <td>Fully Paid</td>\n",
       "      <td>other</td>\n",
       "      <td>CA</td>\n",
       "      <td>20.00</td>\n",
       "      <td>0</td>\n",
       "      <td>0.0</td>\n",
       "      <td>12</td>\n",
       "      <td>2011</td>\n",
       "      <td>5k-10k</td>\n",
       "      <td>Moderate</td>\n",
       "    </tr>\n",
       "    <tr>\n",
       "      <th>5</th>\n",
       "      <td>5000</td>\n",
       "      <td>5000</td>\n",
       "      <td>5000.0</td>\n",
       "      <td>36</td>\n",
       "      <td>7.90</td>\n",
       "      <td>156.46</td>\n",
       "      <td>A</td>\n",
       "      <td>A4</td>\n",
       "      <td>3</td>\n",
       "      <td>RENT</td>\n",
       "      <td>...</td>\n",
       "      <td>Fully Paid</td>\n",
       "      <td>wedding</td>\n",
       "      <td>AZ</td>\n",
       "      <td>11.20</td>\n",
       "      <td>0</td>\n",
       "      <td>0.0</td>\n",
       "      <td>12</td>\n",
       "      <td>2011</td>\n",
       "      <td>0-5k</td>\n",
       "      <td>Very low</td>\n",
       "    </tr>\n",
       "  </tbody>\n",
       "</table>\n",
       "<p>5 rows × 23 columns</p>\n",
       "</div>"
      ],
      "text/plain": [
       "   loan_amnt  funded_amnt  funded_amnt_inv  term  int_rate  installment grade  \\\n",
       "0       5000         5000           4975.0    36     10.65       162.87     B   \n",
       "1       2500         2500           2500.0    60     15.27        59.83     C   \n",
       "2       2400         2400           2400.0    36     15.96        84.33     C   \n",
       "3      10000        10000          10000.0    36     13.49       339.31     C   \n",
       "5       5000         5000           5000.0    36      7.90       156.46     A   \n",
       "\n",
       "  sub_grade  emp_length home_ownership  ...  loan_status         purpose  \\\n",
       "0        B2          10           RENT  ...   Fully Paid     credit_card   \n",
       "1        C4           0           RENT  ...  Charged Off             car   \n",
       "2        C5          10           RENT  ...   Fully Paid  small_business   \n",
       "3        C1          10           RENT  ...   Fully Paid           other   \n",
       "5        A4           3           RENT  ...   Fully Paid         wedding   \n",
       "\n",
       "  addr_state    dti pub_rec pub_rec_bankruptcies  issue_month  issue_year  \\\n",
       "0         AZ  27.65       0                  0.0           12        2011   \n",
       "1         GA   1.00       0                  0.0           12        2011   \n",
       "2         IL   8.72       0                  0.0           12        2011   \n",
       "3         CA  20.00       0                  0.0           12        2011   \n",
       "5         AZ  11.20       0                  0.0           12        2011   \n",
       "\n",
       "   loan_amnt_bucket  int_rate_bucket  \n",
       "0              0-5k              Low  \n",
       "1              0-5k         Moderate  \n",
       "2              0-5k         Moderate  \n",
       "3            5k-10k         Moderate  \n",
       "5              0-5k         Very low  \n",
       "\n",
       "[5 rows x 23 columns]"
      ]
     },
     "execution_count": 665,
     "metadata": {},
     "output_type": "execute_result"
    }
   ],
   "source": [
    "def BucketizeInterestRate(val):\n",
    "    if val <= 8:\n",
    "        return \"Very low\"\n",
    "    elif val >8 and val <=12:\n",
    "        return \"Low\"\n",
    "    elif val >12 and val <=16:\n",
    "        return \"Moderate\"\n",
    "    elif val >16 and val <= 20:\n",
    "        return \"High\"\n",
    "    elif val >20:\n",
    "        return \"Very high\"\n",
    "\n",
    "data['int_rate_bucket'] = data['int_rate'].apply(BucketizeInterestRate)\n",
    "data.head()"
   ]
  },
  {
   "cell_type": "code",
   "execution_count": 667,
   "id": "0cc8c1a3-6a63-4de8-9c89-7bd1eb4c2866",
   "metadata": {},
   "outputs": [
    {
     "data": {
      "text/plain": [
       "count     33193.000000\n",
       "mean      60167.254229\n",
       "std       27392.575296\n",
       "min        4000.000000\n",
       "25%       40000.000000\n",
       "50%       55000.000000\n",
       "75%       75000.000000\n",
       "max      145992.000000\n",
       "Name: annual_inc, dtype: float64"
      ]
     },
     "execution_count": 667,
     "metadata": {},
     "output_type": "execute_result"
    }
   ],
   "source": [
    "data.annual_inc.describe()"
   ]
  },
  {
   "cell_type": "code",
   "execution_count": 669,
   "id": "695869d9-db59-46da-bab9-a260ff934d10",
   "metadata": {},
   "outputs": [],
   "source": [
    "# From above data for annual_inc we can see that the most of the annual_inc are between ~40k to 75k (25% - 75%) quartile\n",
    "# So lets bucketize them as follows:\n",
    "# [0-40k] , (40k - 50k]. (50k-60k], (60k-70k], (70k-80k], (80k-above]"
   ]
  },
  {
   "cell_type": "code",
   "execution_count": 671,
   "id": "9965cda1-a515-4d51-b95d-e5ecb39e64f7",
   "metadata": {},
   "outputs": [
    {
     "data": {
      "text/html": [
       "<div>\n",
       "<style scoped>\n",
       "    .dataframe tbody tr th:only-of-type {\n",
       "        vertical-align: middle;\n",
       "    }\n",
       "\n",
       "    .dataframe tbody tr th {\n",
       "        vertical-align: top;\n",
       "    }\n",
       "\n",
       "    .dataframe thead th {\n",
       "        text-align: right;\n",
       "    }\n",
       "</style>\n",
       "<table border=\"1\" class=\"dataframe\">\n",
       "  <thead>\n",
       "    <tr style=\"text-align: right;\">\n",
       "      <th></th>\n",
       "      <th>loan_amnt</th>\n",
       "      <th>funded_amnt</th>\n",
       "      <th>funded_amnt_inv</th>\n",
       "      <th>term</th>\n",
       "      <th>int_rate</th>\n",
       "      <th>installment</th>\n",
       "      <th>grade</th>\n",
       "      <th>sub_grade</th>\n",
       "      <th>emp_length</th>\n",
       "      <th>home_ownership</th>\n",
       "      <th>...</th>\n",
       "      <th>purpose</th>\n",
       "      <th>addr_state</th>\n",
       "      <th>dti</th>\n",
       "      <th>pub_rec</th>\n",
       "      <th>pub_rec_bankruptcies</th>\n",
       "      <th>issue_month</th>\n",
       "      <th>issue_year</th>\n",
       "      <th>loan_amnt_bucket</th>\n",
       "      <th>int_rate_bucket</th>\n",
       "      <th>annual_inc_bucket</th>\n",
       "    </tr>\n",
       "  </thead>\n",
       "  <tbody>\n",
       "    <tr>\n",
       "      <th>0</th>\n",
       "      <td>5000</td>\n",
       "      <td>5000</td>\n",
       "      <td>4975.0</td>\n",
       "      <td>36</td>\n",
       "      <td>10.65</td>\n",
       "      <td>162.87</td>\n",
       "      <td>B</td>\n",
       "      <td>B2</td>\n",
       "      <td>10</td>\n",
       "      <td>RENT</td>\n",
       "      <td>...</td>\n",
       "      <td>credit_card</td>\n",
       "      <td>AZ</td>\n",
       "      <td>27.65</td>\n",
       "      <td>0</td>\n",
       "      <td>0.0</td>\n",
       "      <td>12</td>\n",
       "      <td>2011</td>\n",
       "      <td>0-5k</td>\n",
       "      <td>Low</td>\n",
       "      <td>0-40k</td>\n",
       "    </tr>\n",
       "    <tr>\n",
       "      <th>1</th>\n",
       "      <td>2500</td>\n",
       "      <td>2500</td>\n",
       "      <td>2500.0</td>\n",
       "      <td>60</td>\n",
       "      <td>15.27</td>\n",
       "      <td>59.83</td>\n",
       "      <td>C</td>\n",
       "      <td>C4</td>\n",
       "      <td>0</td>\n",
       "      <td>RENT</td>\n",
       "      <td>...</td>\n",
       "      <td>car</td>\n",
       "      <td>GA</td>\n",
       "      <td>1.00</td>\n",
       "      <td>0</td>\n",
       "      <td>0.0</td>\n",
       "      <td>12</td>\n",
       "      <td>2011</td>\n",
       "      <td>0-5k</td>\n",
       "      <td>Moderate</td>\n",
       "      <td>0-40k</td>\n",
       "    </tr>\n",
       "    <tr>\n",
       "      <th>2</th>\n",
       "      <td>2400</td>\n",
       "      <td>2400</td>\n",
       "      <td>2400.0</td>\n",
       "      <td>36</td>\n",
       "      <td>15.96</td>\n",
       "      <td>84.33</td>\n",
       "      <td>C</td>\n",
       "      <td>C5</td>\n",
       "      <td>10</td>\n",
       "      <td>RENT</td>\n",
       "      <td>...</td>\n",
       "      <td>small_business</td>\n",
       "      <td>IL</td>\n",
       "      <td>8.72</td>\n",
       "      <td>0</td>\n",
       "      <td>0.0</td>\n",
       "      <td>12</td>\n",
       "      <td>2011</td>\n",
       "      <td>0-5k</td>\n",
       "      <td>Moderate</td>\n",
       "      <td>0-40k</td>\n",
       "    </tr>\n",
       "    <tr>\n",
       "      <th>3</th>\n",
       "      <td>10000</td>\n",
       "      <td>10000</td>\n",
       "      <td>10000.0</td>\n",
       "      <td>36</td>\n",
       "      <td>13.49</td>\n",
       "      <td>339.31</td>\n",
       "      <td>C</td>\n",
       "      <td>C1</td>\n",
       "      <td>10</td>\n",
       "      <td>RENT</td>\n",
       "      <td>...</td>\n",
       "      <td>other</td>\n",
       "      <td>CA</td>\n",
       "      <td>20.00</td>\n",
       "      <td>0</td>\n",
       "      <td>0.0</td>\n",
       "      <td>12</td>\n",
       "      <td>2011</td>\n",
       "      <td>5k-10k</td>\n",
       "      <td>Moderate</td>\n",
       "      <td>40k-50k</td>\n",
       "    </tr>\n",
       "    <tr>\n",
       "      <th>5</th>\n",
       "      <td>5000</td>\n",
       "      <td>5000</td>\n",
       "      <td>5000.0</td>\n",
       "      <td>36</td>\n",
       "      <td>7.90</td>\n",
       "      <td>156.46</td>\n",
       "      <td>A</td>\n",
       "      <td>A4</td>\n",
       "      <td>3</td>\n",
       "      <td>RENT</td>\n",
       "      <td>...</td>\n",
       "      <td>wedding</td>\n",
       "      <td>AZ</td>\n",
       "      <td>11.20</td>\n",
       "      <td>0</td>\n",
       "      <td>0.0</td>\n",
       "      <td>12</td>\n",
       "      <td>2011</td>\n",
       "      <td>0-5k</td>\n",
       "      <td>Very low</td>\n",
       "      <td>0-40k</td>\n",
       "    </tr>\n",
       "  </tbody>\n",
       "</table>\n",
       "<p>5 rows × 24 columns</p>\n",
       "</div>"
      ],
      "text/plain": [
       "   loan_amnt  funded_amnt  funded_amnt_inv  term  int_rate  installment grade  \\\n",
       "0       5000         5000           4975.0    36     10.65       162.87     B   \n",
       "1       2500         2500           2500.0    60     15.27        59.83     C   \n",
       "2       2400         2400           2400.0    36     15.96        84.33     C   \n",
       "3      10000        10000          10000.0    36     13.49       339.31     C   \n",
       "5       5000         5000           5000.0    36      7.90       156.46     A   \n",
       "\n",
       "  sub_grade  emp_length home_ownership  ...         purpose addr_state    dti  \\\n",
       "0        B2          10           RENT  ...     credit_card         AZ  27.65   \n",
       "1        C4           0           RENT  ...             car         GA   1.00   \n",
       "2        C5          10           RENT  ...  small_business         IL   8.72   \n",
       "3        C1          10           RENT  ...           other         CA  20.00   \n",
       "5        A4           3           RENT  ...         wedding         AZ  11.20   \n",
       "\n",
       "  pub_rec pub_rec_bankruptcies issue_month  issue_year  loan_amnt_bucket  \\\n",
       "0       0                  0.0          12        2011              0-5k   \n",
       "1       0                  0.0          12        2011              0-5k   \n",
       "2       0                  0.0          12        2011              0-5k   \n",
       "3       0                  0.0          12        2011            5k-10k   \n",
       "5       0                  0.0          12        2011              0-5k   \n",
       "\n",
       "   int_rate_bucket  annual_inc_bucket  \n",
       "0              Low              0-40k  \n",
       "1         Moderate              0-40k  \n",
       "2         Moderate              0-40k  \n",
       "3         Moderate            40k-50k  \n",
       "5         Very low              0-40k  \n",
       "\n",
       "[5 rows x 24 columns]"
      ]
     },
     "execution_count": 671,
     "metadata": {},
     "output_type": "execute_result"
    }
   ],
   "source": [
    "def BucketizeAnnualIncomeAmount(val):\n",
    "    if val <= 40000:\n",
    "        return \"0-40k\"\n",
    "    elif val >40000 and val <=50000:\n",
    "        return \"40k-50k\"\n",
    "    elif val >50000 and val <=60000:\n",
    "        return \"50k-60k\"\n",
    "    elif val >60000 and val <= 70000:\n",
    "        return \"60k-70k\"\n",
    "    elif val >70000 and val <= 80000:\n",
    "        return \"70k-80k\"\n",
    "    else:\n",
    "        return \"80k-above\"\n",
    "\n",
    "data['annual_inc_bucket'] = data['annual_inc'].apply(BucketizeAnnualIncomeAmount)\n",
    "data.head()"
   ]
  },
  {
   "cell_type": "code",
   "execution_count": 673,
   "id": "42c92f66-3c70-4cea-b3c5-98543188cd9c",
   "metadata": {},
   "outputs": [
    {
     "data": {
      "text/plain": [
       "count    33193.000000\n",
       "mean        13.448420\n",
       "std          6.649824\n",
       "min          0.000000\n",
       "25%          8.350000\n",
       "50%         13.550000\n",
       "75%         18.720000\n",
       "max         29.990000\n",
       "Name: dti, dtype: float64"
      ]
     },
     "execution_count": 673,
     "metadata": {},
     "output_type": "execute_result"
    }
   ],
   "source": [
    "data.dti.describe()"
   ]
  },
  {
   "cell_type": "code",
   "execution_count": 675,
   "id": "e01ddc14-6c7f-465a-8177-bb8e526ef3ae",
   "metadata": {},
   "outputs": [],
   "source": [
    "# From above data for dti we can see that the most of the annual_inc are between 8 to 18 (25% - 75%) quartile\n",
    "# So lets bucketize them as follows:\n",
    "# [0-8]: very Low,  (8 - 12]: low,  (12-16]: moderate,  (16,20]: high, >20 : Very high"
   ]
  },
  {
   "cell_type": "code",
   "execution_count": 677,
   "id": "7fb7232c-7837-4f69-bfe2-8cc69d727d4a",
   "metadata": {},
   "outputs": [
    {
     "data": {
      "text/html": [
       "<div>\n",
       "<style scoped>\n",
       "    .dataframe tbody tr th:only-of-type {\n",
       "        vertical-align: middle;\n",
       "    }\n",
       "\n",
       "    .dataframe tbody tr th {\n",
       "        vertical-align: top;\n",
       "    }\n",
       "\n",
       "    .dataframe thead th {\n",
       "        text-align: right;\n",
       "    }\n",
       "</style>\n",
       "<table border=\"1\" class=\"dataframe\">\n",
       "  <thead>\n",
       "    <tr style=\"text-align: right;\">\n",
       "      <th></th>\n",
       "      <th>loan_amnt</th>\n",
       "      <th>funded_amnt</th>\n",
       "      <th>funded_amnt_inv</th>\n",
       "      <th>term</th>\n",
       "      <th>int_rate</th>\n",
       "      <th>installment</th>\n",
       "      <th>grade</th>\n",
       "      <th>sub_grade</th>\n",
       "      <th>emp_length</th>\n",
       "      <th>home_ownership</th>\n",
       "      <th>...</th>\n",
       "      <th>addr_state</th>\n",
       "      <th>dti</th>\n",
       "      <th>pub_rec</th>\n",
       "      <th>pub_rec_bankruptcies</th>\n",
       "      <th>issue_month</th>\n",
       "      <th>issue_year</th>\n",
       "      <th>loan_amnt_bucket</th>\n",
       "      <th>int_rate_bucket</th>\n",
       "      <th>annual_inc_bucket</th>\n",
       "      <th>dti_bucket</th>\n",
       "    </tr>\n",
       "  </thead>\n",
       "  <tbody>\n",
       "    <tr>\n",
       "      <th>0</th>\n",
       "      <td>5000</td>\n",
       "      <td>5000</td>\n",
       "      <td>4975.0</td>\n",
       "      <td>36</td>\n",
       "      <td>10.65</td>\n",
       "      <td>162.87</td>\n",
       "      <td>B</td>\n",
       "      <td>B2</td>\n",
       "      <td>10</td>\n",
       "      <td>RENT</td>\n",
       "      <td>...</td>\n",
       "      <td>AZ</td>\n",
       "      <td>27.65</td>\n",
       "      <td>0</td>\n",
       "      <td>0.0</td>\n",
       "      <td>12</td>\n",
       "      <td>2011</td>\n",
       "      <td>0-5k</td>\n",
       "      <td>Low</td>\n",
       "      <td>0-40k</td>\n",
       "      <td>Very high</td>\n",
       "    </tr>\n",
       "    <tr>\n",
       "      <th>1</th>\n",
       "      <td>2500</td>\n",
       "      <td>2500</td>\n",
       "      <td>2500.0</td>\n",
       "      <td>60</td>\n",
       "      <td>15.27</td>\n",
       "      <td>59.83</td>\n",
       "      <td>C</td>\n",
       "      <td>C4</td>\n",
       "      <td>0</td>\n",
       "      <td>RENT</td>\n",
       "      <td>...</td>\n",
       "      <td>GA</td>\n",
       "      <td>1.00</td>\n",
       "      <td>0</td>\n",
       "      <td>0.0</td>\n",
       "      <td>12</td>\n",
       "      <td>2011</td>\n",
       "      <td>0-5k</td>\n",
       "      <td>Moderate</td>\n",
       "      <td>0-40k</td>\n",
       "      <td>Very low</td>\n",
       "    </tr>\n",
       "    <tr>\n",
       "      <th>2</th>\n",
       "      <td>2400</td>\n",
       "      <td>2400</td>\n",
       "      <td>2400.0</td>\n",
       "      <td>36</td>\n",
       "      <td>15.96</td>\n",
       "      <td>84.33</td>\n",
       "      <td>C</td>\n",
       "      <td>C5</td>\n",
       "      <td>10</td>\n",
       "      <td>RENT</td>\n",
       "      <td>...</td>\n",
       "      <td>IL</td>\n",
       "      <td>8.72</td>\n",
       "      <td>0</td>\n",
       "      <td>0.0</td>\n",
       "      <td>12</td>\n",
       "      <td>2011</td>\n",
       "      <td>0-5k</td>\n",
       "      <td>Moderate</td>\n",
       "      <td>0-40k</td>\n",
       "      <td>Low</td>\n",
       "    </tr>\n",
       "    <tr>\n",
       "      <th>3</th>\n",
       "      <td>10000</td>\n",
       "      <td>10000</td>\n",
       "      <td>10000.0</td>\n",
       "      <td>36</td>\n",
       "      <td>13.49</td>\n",
       "      <td>339.31</td>\n",
       "      <td>C</td>\n",
       "      <td>C1</td>\n",
       "      <td>10</td>\n",
       "      <td>RENT</td>\n",
       "      <td>...</td>\n",
       "      <td>CA</td>\n",
       "      <td>20.00</td>\n",
       "      <td>0</td>\n",
       "      <td>0.0</td>\n",
       "      <td>12</td>\n",
       "      <td>2011</td>\n",
       "      <td>5k-10k</td>\n",
       "      <td>Moderate</td>\n",
       "      <td>40k-50k</td>\n",
       "      <td>High</td>\n",
       "    </tr>\n",
       "    <tr>\n",
       "      <th>5</th>\n",
       "      <td>5000</td>\n",
       "      <td>5000</td>\n",
       "      <td>5000.0</td>\n",
       "      <td>36</td>\n",
       "      <td>7.90</td>\n",
       "      <td>156.46</td>\n",
       "      <td>A</td>\n",
       "      <td>A4</td>\n",
       "      <td>3</td>\n",
       "      <td>RENT</td>\n",
       "      <td>...</td>\n",
       "      <td>AZ</td>\n",
       "      <td>11.20</td>\n",
       "      <td>0</td>\n",
       "      <td>0.0</td>\n",
       "      <td>12</td>\n",
       "      <td>2011</td>\n",
       "      <td>0-5k</td>\n",
       "      <td>Very low</td>\n",
       "      <td>0-40k</td>\n",
       "      <td>Low</td>\n",
       "    </tr>\n",
       "  </tbody>\n",
       "</table>\n",
       "<p>5 rows × 25 columns</p>\n",
       "</div>"
      ],
      "text/plain": [
       "   loan_amnt  funded_amnt  funded_amnt_inv  term  int_rate  installment grade  \\\n",
       "0       5000         5000           4975.0    36     10.65       162.87     B   \n",
       "1       2500         2500           2500.0    60     15.27        59.83     C   \n",
       "2       2400         2400           2400.0    36     15.96        84.33     C   \n",
       "3      10000        10000          10000.0    36     13.49       339.31     C   \n",
       "5       5000         5000           5000.0    36      7.90       156.46     A   \n",
       "\n",
       "  sub_grade  emp_length home_ownership  ...  addr_state    dti pub_rec  \\\n",
       "0        B2          10           RENT  ...          AZ  27.65       0   \n",
       "1        C4           0           RENT  ...          GA   1.00       0   \n",
       "2        C5          10           RENT  ...          IL   8.72       0   \n",
       "3        C1          10           RENT  ...          CA  20.00       0   \n",
       "5        A4           3           RENT  ...          AZ  11.20       0   \n",
       "\n",
       "  pub_rec_bankruptcies issue_month issue_year  loan_amnt_bucket  \\\n",
       "0                  0.0          12       2011              0-5k   \n",
       "1                  0.0          12       2011              0-5k   \n",
       "2                  0.0          12       2011              0-5k   \n",
       "3                  0.0          12       2011            5k-10k   \n",
       "5                  0.0          12       2011              0-5k   \n",
       "\n",
       "   int_rate_bucket  annual_inc_bucket  dti_bucket  \n",
       "0              Low              0-40k   Very high  \n",
       "1         Moderate              0-40k    Very low  \n",
       "2         Moderate              0-40k         Low  \n",
       "3         Moderate            40k-50k        High  \n",
       "5         Very low              0-40k         Low  \n",
       "\n",
       "[5 rows x 25 columns]"
      ]
     },
     "execution_count": 677,
     "metadata": {},
     "output_type": "execute_result"
    }
   ],
   "source": [
    "def BucketizeDTI(val):\n",
    "    if val <= 8:\n",
    "        return \"Very low\"\n",
    "    elif val >8 and val <=12:\n",
    "        return \"Low\"\n",
    "    elif val >12 and val <=16:\n",
    "        return \"Moderate\"\n",
    "    elif val >16 and val <= 20:\n",
    "        return \"High\"\n",
    "    else:\n",
    "        return \"Very high\"\n",
    "\n",
    "data['dti_bucket'] = data['dti'].apply(BucketizeDTI)\n",
    "data.head()"
   ]
  },
  {
   "cell_type": "markdown",
   "id": "bb6d7642-45cb-418f-87a6-fa6072aee3c6",
   "metadata": {},
   "source": [
    "### Before going to do any analysis lets see which columns we are left with "
   ]
  },
  {
   "cell_type": "code",
   "execution_count": 680,
   "id": "023c4911-613b-42fd-809f-4d86c240e9d2",
   "metadata": {},
   "outputs": [
    {
     "data": {
      "text/plain": [
       "Index(['loan_amnt', 'funded_amnt', 'funded_amnt_inv', 'term', 'int_rate',\n",
       "       'installment', 'grade', 'sub_grade', 'emp_length', 'home_ownership',\n",
       "       'annual_inc', 'verification_status', 'issue_d', 'loan_status',\n",
       "       'purpose', 'addr_state', 'dti', 'pub_rec', 'pub_rec_bankruptcies',\n",
       "       'issue_month', 'issue_year', 'loan_amnt_bucket', 'int_rate_bucket',\n",
       "       'annual_inc_bucket', 'dti_bucket'],\n",
       "      dtype='object')"
      ]
     },
     "execution_count": 680,
     "metadata": {},
     "output_type": "execute_result"
    }
   ],
   "source": [
    "data.columns"
   ]
  },
  {
   "cell_type": "code",
   "execution_count": 682,
   "id": "e2e8a38d-ebdd-4073-979f-d05ea8dbd9ab",
   "metadata": {},
   "outputs": [],
   "source": [
    "# Columns: length = 25\n",
    "# Date-time : [issue_d , issue_month, issue_year,  ]\n",
    "# Numerical : [ loan_amnt, funded_amnt, funded_amnt_inv, term, int_rate , installment, annual_inc, dti ]\n",
    "# Categorical : [ grade, sub_grade, emp_length, home_ownership, verification_status, loan_status, purpose, addr_state, pub_rec, \n",
    "#                pub_rec_bankruptcies, loan_amnt_bucket, int_rate_bucket,  annual_inc_bucket, dti_bucket ]\n",
    "# Target variable : [ loan_status ]"
   ]
  },
  {
   "cell_type": "code",
   "execution_count": 684,
   "id": "3c3aa744-823b-4304-8e64-874d7fb8be2e",
   "metadata": {},
   "outputs": [
    {
     "data": {
      "text/html": [
       "<div>\n",
       "<style scoped>\n",
       "    .dataframe tbody tr th:only-of-type {\n",
       "        vertical-align: middle;\n",
       "    }\n",
       "\n",
       "    .dataframe tbody tr th {\n",
       "        vertical-align: top;\n",
       "    }\n",
       "\n",
       "    .dataframe thead th {\n",
       "        text-align: right;\n",
       "    }\n",
       "</style>\n",
       "<table border=\"1\" class=\"dataframe\">\n",
       "  <thead>\n",
       "    <tr style=\"text-align: right;\">\n",
       "      <th></th>\n",
       "      <th>loan_amnt</th>\n",
       "      <th>funded_amnt</th>\n",
       "      <th>funded_amnt_inv</th>\n",
       "      <th>term</th>\n",
       "      <th>int_rate</th>\n",
       "      <th>installment</th>\n",
       "      <th>grade</th>\n",
       "      <th>sub_grade</th>\n",
       "      <th>emp_length</th>\n",
       "      <th>home_ownership</th>\n",
       "      <th>...</th>\n",
       "      <th>addr_state</th>\n",
       "      <th>dti</th>\n",
       "      <th>pub_rec</th>\n",
       "      <th>pub_rec_bankruptcies</th>\n",
       "      <th>issue_month</th>\n",
       "      <th>issue_year</th>\n",
       "      <th>loan_amnt_bucket</th>\n",
       "      <th>int_rate_bucket</th>\n",
       "      <th>annual_inc_bucket</th>\n",
       "      <th>dti_bucket</th>\n",
       "    </tr>\n",
       "  </thead>\n",
       "  <tbody>\n",
       "    <tr>\n",
       "      <th>0</th>\n",
       "      <td>5000</td>\n",
       "      <td>5000</td>\n",
       "      <td>4975.0</td>\n",
       "      <td>36</td>\n",
       "      <td>10.65</td>\n",
       "      <td>162.87</td>\n",
       "      <td>B</td>\n",
       "      <td>B2</td>\n",
       "      <td>10</td>\n",
       "      <td>RENT</td>\n",
       "      <td>...</td>\n",
       "      <td>AZ</td>\n",
       "      <td>27.65</td>\n",
       "      <td>0</td>\n",
       "      <td>0.0</td>\n",
       "      <td>12</td>\n",
       "      <td>2011</td>\n",
       "      <td>0-5k</td>\n",
       "      <td>Low</td>\n",
       "      <td>0-40k</td>\n",
       "      <td>Very high</td>\n",
       "    </tr>\n",
       "    <tr>\n",
       "      <th>1</th>\n",
       "      <td>2500</td>\n",
       "      <td>2500</td>\n",
       "      <td>2500.0</td>\n",
       "      <td>60</td>\n",
       "      <td>15.27</td>\n",
       "      <td>59.83</td>\n",
       "      <td>C</td>\n",
       "      <td>C4</td>\n",
       "      <td>0</td>\n",
       "      <td>RENT</td>\n",
       "      <td>...</td>\n",
       "      <td>GA</td>\n",
       "      <td>1.00</td>\n",
       "      <td>0</td>\n",
       "      <td>0.0</td>\n",
       "      <td>12</td>\n",
       "      <td>2011</td>\n",
       "      <td>0-5k</td>\n",
       "      <td>Moderate</td>\n",
       "      <td>0-40k</td>\n",
       "      <td>Very low</td>\n",
       "    </tr>\n",
       "    <tr>\n",
       "      <th>2</th>\n",
       "      <td>2400</td>\n",
       "      <td>2400</td>\n",
       "      <td>2400.0</td>\n",
       "      <td>36</td>\n",
       "      <td>15.96</td>\n",
       "      <td>84.33</td>\n",
       "      <td>C</td>\n",
       "      <td>C5</td>\n",
       "      <td>10</td>\n",
       "      <td>RENT</td>\n",
       "      <td>...</td>\n",
       "      <td>IL</td>\n",
       "      <td>8.72</td>\n",
       "      <td>0</td>\n",
       "      <td>0.0</td>\n",
       "      <td>12</td>\n",
       "      <td>2011</td>\n",
       "      <td>0-5k</td>\n",
       "      <td>Moderate</td>\n",
       "      <td>0-40k</td>\n",
       "      <td>Low</td>\n",
       "    </tr>\n",
       "    <tr>\n",
       "      <th>3</th>\n",
       "      <td>10000</td>\n",
       "      <td>10000</td>\n",
       "      <td>10000.0</td>\n",
       "      <td>36</td>\n",
       "      <td>13.49</td>\n",
       "      <td>339.31</td>\n",
       "      <td>C</td>\n",
       "      <td>C1</td>\n",
       "      <td>10</td>\n",
       "      <td>RENT</td>\n",
       "      <td>...</td>\n",
       "      <td>CA</td>\n",
       "      <td>20.00</td>\n",
       "      <td>0</td>\n",
       "      <td>0.0</td>\n",
       "      <td>12</td>\n",
       "      <td>2011</td>\n",
       "      <td>5k-10k</td>\n",
       "      <td>Moderate</td>\n",
       "      <td>40k-50k</td>\n",
       "      <td>High</td>\n",
       "    </tr>\n",
       "    <tr>\n",
       "      <th>5</th>\n",
       "      <td>5000</td>\n",
       "      <td>5000</td>\n",
       "      <td>5000.0</td>\n",
       "      <td>36</td>\n",
       "      <td>7.90</td>\n",
       "      <td>156.46</td>\n",
       "      <td>A</td>\n",
       "      <td>A4</td>\n",
       "      <td>3</td>\n",
       "      <td>RENT</td>\n",
       "      <td>...</td>\n",
       "      <td>AZ</td>\n",
       "      <td>11.20</td>\n",
       "      <td>0</td>\n",
       "      <td>0.0</td>\n",
       "      <td>12</td>\n",
       "      <td>2011</td>\n",
       "      <td>0-5k</td>\n",
       "      <td>Very low</td>\n",
       "      <td>0-40k</td>\n",
       "      <td>Low</td>\n",
       "    </tr>\n",
       "  </tbody>\n",
       "</table>\n",
       "<p>5 rows × 25 columns</p>\n",
       "</div>"
      ],
      "text/plain": [
       "   loan_amnt  funded_amnt  funded_amnt_inv  term  int_rate  installment grade  \\\n",
       "0       5000         5000           4975.0    36     10.65       162.87     B   \n",
       "1       2500         2500           2500.0    60     15.27        59.83     C   \n",
       "2       2400         2400           2400.0    36     15.96        84.33     C   \n",
       "3      10000        10000          10000.0    36     13.49       339.31     C   \n",
       "5       5000         5000           5000.0    36      7.90       156.46     A   \n",
       "\n",
       "  sub_grade  emp_length home_ownership  ...  addr_state    dti pub_rec  \\\n",
       "0        B2          10           RENT  ...          AZ  27.65       0   \n",
       "1        C4           0           RENT  ...          GA   1.00       0   \n",
       "2        C5          10           RENT  ...          IL   8.72       0   \n",
       "3        C1          10           RENT  ...          CA  20.00       0   \n",
       "5        A4           3           RENT  ...          AZ  11.20       0   \n",
       "\n",
       "  pub_rec_bankruptcies issue_month issue_year  loan_amnt_bucket  \\\n",
       "0                  0.0          12       2011              0-5k   \n",
       "1                  0.0          12       2011              0-5k   \n",
       "2                  0.0          12       2011              0-5k   \n",
       "3                  0.0          12       2011            5k-10k   \n",
       "5                  0.0          12       2011              0-5k   \n",
       "\n",
       "   int_rate_bucket  annual_inc_bucket  dti_bucket  \n",
       "0              Low              0-40k   Very high  \n",
       "1         Moderate              0-40k    Very low  \n",
       "2         Moderate              0-40k         Low  \n",
       "3         Moderate            40k-50k        High  \n",
       "5         Very low              0-40k         Low  \n",
       "\n",
       "[5 rows x 25 columns]"
      ]
     },
     "execution_count": 684,
     "metadata": {},
     "output_type": "execute_result"
    }
   ],
   "source": [
    "data.head()"
   ]
  },
  {
   "cell_type": "markdown",
   "id": "82c095c9-c616-430b-8c75-c7bd6b1d3730",
   "metadata": {},
   "source": [
    "# 4. Univariate Analysis"
   ]
  },
  {
   "cell_type": "code",
   "execution_count": 687,
   "id": "bcb62869-c1d6-47f2-a68f-5eae9215109b",
   "metadata": {},
   "outputs": [
    {
     "name": "stdout",
     "output_type": "stream",
     "text": [
      "<class 'pandas.core.frame.DataFrame'>\n",
      "Index: 33193 entries, 0 to 39680\n",
      "Data columns (total 25 columns):\n",
      " #   Column                Non-Null Count  Dtype  \n",
      "---  ------                --------------  -----  \n",
      " 0   loan_amnt             33193 non-null  int64  \n",
      " 1   funded_amnt           33193 non-null  int64  \n",
      " 2   funded_amnt_inv       33193 non-null  float64\n",
      " 3   term                  33193 non-null  int64  \n",
      " 4   int_rate              33193 non-null  float64\n",
      " 5   installment           33193 non-null  float64\n",
      " 6   grade                 33193 non-null  object \n",
      " 7   sub_grade             33193 non-null  object \n",
      " 8   emp_length            33193 non-null  int64  \n",
      " 9   home_ownership        33193 non-null  object \n",
      " 10  annual_inc            33193 non-null  float64\n",
      " 11  verification_status   33193 non-null  object \n",
      " 12  issue_d               33193 non-null  object \n",
      " 13  loan_status           33193 non-null  object \n",
      " 14  purpose               33193 non-null  object \n",
      " 15  addr_state            33193 non-null  object \n",
      " 16  dti                   33193 non-null  float64\n",
      " 17  pub_rec               33193 non-null  int64  \n",
      " 18  pub_rec_bankruptcies  33193 non-null  float64\n",
      " 19  issue_month           33193 non-null  int32  \n",
      " 20  issue_year            33193 non-null  int32  \n",
      " 21  loan_amnt_bucket      33193 non-null  object \n",
      " 22  int_rate_bucket       33193 non-null  object \n",
      " 23  annual_inc_bucket     33193 non-null  object \n",
      " 24  dti_bucket            33193 non-null  object \n",
      "dtypes: float64(6), int32(2), int64(5), object(12)\n",
      "memory usage: 6.3+ MB\n"
     ]
    }
   ],
   "source": [
    "data.info()"
   ]
  },
  {
   "cell_type": "markdown",
   "id": "db5fdc31-3f9b-4da7-8ad9-bf441573b081",
   "metadata": {},
   "source": [
    "### a. Analyzing loan status"
   ]
  },
  {
   "cell_type": "code",
   "execution_count": 690,
   "id": "ad37c91e-36c9-4524-bb79-b9c5f32efad1",
   "metadata": {},
   "outputs": [
    {
     "data": {
      "text/plain": [
       "loan_status\n",
       "Fully Paid     28494\n",
       "Charged Off     4699\n",
       "Name: count, dtype: int64"
      ]
     },
     "execution_count": 690,
     "metadata": {},
     "output_type": "execute_result"
    }
   ],
   "source": [
    "data.loan_status.value_counts()"
   ]
  },
  {
   "cell_type": "code",
   "execution_count": 692,
   "id": "a827c60d-3272-4793-a9ee-495ce0def68b",
   "metadata": {},
   "outputs": [
    {
     "data": {
      "image/png": "[encoded data removed]",
      "text/plain": [
       "<Figure size 640x480 with 1 Axes>"
      ]
     },
     "metadata": {},
     "output_type": "display_data"
    }
   ],
   "source": [
    "sns.countplot(data = data, x= 'loan_status')\n",
    "plt.xlabel(\"Loan status\")\n",
    "plt.ylabel(\"Count\")\n",
    "plt.show()"
   ]
  },
  {
   "cell_type": "code",
   "execution_count": 693,
   "id": "a5f7ea33-7747-4b48-960c-915db2ac45d1",
   "metadata": {},
   "outputs": [
    {
     "name": "stdout",
     "output_type": "stream",
     "text": [
      "percent of application whihch has  defaulted : 14.16\n"
     ]
    }
   ],
   "source": [
    "percent_charged_off = round(len(data[data['loan_status'] == \"Charged Off\"])/ len(data)*100 ,2)\n",
    "print(\"percent of application whihch has  defaulted :\", percent_charged_off)"
   ]
  },
  {
   "cell_type": "markdown",
   "id": "dfa1e319-b661-4959-a9a2-1e47a3db3139",
   "metadata": {},
   "source": [
    "#### Observation : 14.16% of loan in the data set has defaulted"
   ]
  },
  {
   "cell_type": "markdown",
   "id": "8ca723d8-993f-41e8-806c-24efacd8b870",
   "metadata": {},
   "source": [
    "### b. Analysis of loan amount"
   ]
  },
  {
   "cell_type": "code",
   "execution_count": 698,
   "id": "cfbc1e2d-83ce-4a47-bb1c-59e13fe425d8",
   "metadata": {},
   "outputs": [
    {
     "data": {
      "image/png": "[encoded data removed]",
      "text/plain": [
       "<Figure size 640x480 with 1 Axes>"
      ]
     },
     "metadata": {},
     "output_type": "display_data"
    }
   ],
   "source": [
    "data.loan_amnt_bucket.value_counts().plot.bar()\n",
    "plt.xlabel(\"Loan amount\")\n",
    "plt.ylabel(\"Count\")\n",
    "plt.show()"
   ]
  },
  {
   "cell_type": "markdown",
   "id": "f7407096-a639-4476-b493-453681221a8e",
   "metadata": {},
   "source": [
    "##### Observation  : Loan amount between 5000 -10000 is most applied for"
   ]
  },
  {
   "cell_type": "markdown",
   "id": "f43e2e50-f575-4db3-a94e-50c054ae0538",
   "metadata": {},
   "source": [
    "### c. Analysis of home ownership of applicants"
   ]
  },
  {
   "cell_type": "code",
   "execution_count": 702,
   "id": "4c9c6953-910f-4ed9-8a31-58808f256e18",
   "metadata": {},
   "outputs": [
    {
     "data": {
      "image/png": "[encoded data removed]",
      "text/plain": [
       "<Figure size 640x480 with 1 Axes>"
      ]
     },
     "metadata": {},
     "output_type": "display_data"
    }
   ],
   "source": [
    "data.home_ownership.value_counts().plot.bar()\n",
    "plt.xlabel(\"Home ownership\")\n",
    "plt.ylabel(\"Count\")\n",
    "plt.show()"
   ]
  },
  {
   "cell_type": "markdown",
   "id": "5550f216-4c4e-451a-bdaa-a661c7ff2b16",
   "metadata": {},
   "source": [
    "##### Observation : Majority of the applicants are ether living on rent or are on mortgage"
   ]
  },
  {
   "cell_type": "markdown",
   "id": "edb5f53f-dbe7-48d9-9400-ee18c76f2af8",
   "metadata": {},
   "source": [
    "### d. Analysis of annual income of the applicants"
   ]
  },
  {
   "cell_type": "code",
   "execution_count": 706,
   "id": "5b69cda1-2930-4170-899f-11a869121c63",
   "metadata": {},
   "outputs": [
    {
     "data": {
      "image/png": "[encoded data removed]",
      "text/plain": [
       "<Figure size 640x480 with 1 Axes>"
      ]
     },
     "metadata": {},
     "output_type": "display_data"
    }
   ],
   "source": [
    "data.annual_inc_bucket.value_counts().plot.bar()\n",
    "plt.xlabel(\"Annual income\")\n",
    "plt.ylabel(\"Count\")\n",
    "plt.show()"
   ]
  },
  {
   "cell_type": "markdown",
   "id": "5312a937-2403-4423-a420-43e8e00efef4",
   "metadata": {},
   "source": [
    "##### Observation : Majority of the applicants has income between 0-40k "
   ]
  },
  {
   "cell_type": "markdown",
   "id": "ed7c3702-f5d3-4019-a5bb-f4878e0bef5a",
   "metadata": {},
   "source": [
    "### e. Analysis of purpose of applying for loan"
   ]
  },
  {
   "cell_type": "code",
   "execution_count": 710,
   "id": "e7e84075-7c61-4317-9942-7be3611a7c75",
   "metadata": {},
   "outputs": [
    {
     "data": {
      "image/png": "[encoded data removed]",
      "text/plain": [
       "<Figure size 640x480 with 1 Axes>"
      ]
     },
     "metadata": {},
     "output_type": "display_data"
    }
   ],
   "source": [
    "data.purpose.value_counts().plot.bar()\n",
    "plt.xlabel(\"Loan purpose\")\n",
    "plt.ylabel(\"Count\")\n",
    "plt.show()"
   ]
  },
  {
   "cell_type": "markdown",
   "id": "19780bd2-2619-435c-871e-e9633d6941b8",
   "metadata": {},
   "source": [
    "##### Observation : Most of the applicants apply for loan for the debt consolidation followed by settlement of credit card "
   ]
  },
  {
   "cell_type": "markdown",
   "id": "efda7c0f-6f63-4081-9d6e-c9c05fa6335a",
   "metadata": {},
   "source": [
    "### f. Analysis of applicants location"
   ]
  },
  {
   "cell_type": "code",
   "execution_count": 714,
   "id": "56e8803a-9fda-48f8-b377-fb531ffbc4a2",
   "metadata": {},
   "outputs": [
    {
     "data": {
      "image/png": "[encoded data removed]",
      "text/plain": [
       "<Figure size 640x480 with 1 Axes>"
      ]
     },
     "metadata": {},
     "output_type": "display_data"
    }
   ],
   "source": [
    "data.addr_state.value_counts().plot.bar()\n",
    "plt.xlabel(\"Location\")\n",
    "plt.ylabel(\"Count\")\n",
    "plt.show()"
   ]
  },
  {
   "cell_type": "markdown",
   "id": "53549a4c-1996-4d36-ba81-50d0693b8e23",
   "metadata": {},
   "source": [
    "##### Observation : State CA has most number of the applicants"
   ]
  },
  {
   "cell_type": "markdown",
   "id": "7134bf6d-fe8c-4628-be01-3047446c7e1e",
   "metadata": {},
   "source": [
    "###  g. Analysis of interest rate of the loan"
   ]
  },
  {
   "cell_type": "code",
   "execution_count": 718,
   "id": "e75dd1f6-1847-4549-8185-f0397896548b",
   "metadata": {},
   "outputs": [
    {
     "data": {
      "image/png": "[encoded data removed]",
      "text/plain": [
       "<Figure size 640x480 with 1 Axes>"
      ]
     },
     "metadata": {},
     "output_type": "display_data"
    }
   ],
   "source": [
    "data.int_rate_bucket.value_counts().plot.bar()\n",
    "plt.xlabel(\"Interest rate\")\n",
    "plt.ylabel(\"Count\")\n",
    "plt.show()"
   ]
  },
  {
   "cell_type": "markdown",
   "id": "f1139eba-588c-41d3-a158-9793025a5d4d",
   "metadata": {},
   "source": [
    "##### Observation : Most of the applicants have either low (<8%) or moderate(12% to 16%) interest rate. "
   ]
  },
  {
   "cell_type": "markdown",
   "id": "f6f3ca3b-23b0-4097-b65e-9374da72e8a3",
   "metadata": {},
   "source": [
    "### h. Analysis of the month for loan application"
   ]
  },
  {
   "cell_type": "code",
   "execution_count": 722,
   "id": "029f7d3d-787a-4242-a924-a737f1f3de2e",
   "metadata": {},
   "outputs": [
    {
     "data": {
      "image/png": "[encoded data removed]",
      "text/plain": [
       "<Figure size 640x480 with 1 Axes>"
      ]
     },
     "metadata": {},
     "output_type": "display_data"
    }
   ],
   "source": [
    "data.issue_month.value_counts().plot.bar()\n",
    "plt.xlabel(\"Loan issue month\")\n",
    "plt.ylabel(\"Count\")\n",
    "plt.show()"
   ]
  },
  {
   "cell_type": "markdown",
   "id": "1937a3c8-8146-4333-8648-c5ae2e62dab4",
   "metadata": {},
   "source": [
    "##### Observation : Most of the loans were availed in the month of Nov or Dec"
   ]
  },
  {
   "cell_type": "markdown",
   "id": "63aea3a4-a889-4dc1-b4bb-8992eb5e823f",
   "metadata": {},
   "source": [
    "### i. Analysis of the loan application year"
   ]
  },
  {
   "cell_type": "code",
   "execution_count": 726,
   "id": "df157a9d-ca67-4a66-95ad-b86d34af2aa8",
   "metadata": {},
   "outputs": [
    {
     "data": {
      "image/png": "[encoded data removed]",
      "text/plain": [
       "<Figure size 640x480 with 1 Axes>"
      ]
     },
     "metadata": {},
     "output_type": "display_data"
    }
   ],
   "source": [
    "data.issue_year.value_counts().plot.bar()\n",
    "plt.xlabel(\"Loan issue year\")\n",
    "plt.ylabel(\"Count\")\n",
    "plt.show()"
   ]
  },
  {
   "cell_type": "markdown",
   "id": "8c32d70a-fe8d-4994-b86f-2d1bc0091e12",
   "metadata": {},
   "source": [
    "##### Observation : In year 2011 the loan application was highest"
   ]
  },
  {
   "cell_type": "markdown",
   "id": "8db4c967-23e9-45e6-a35f-c06bdc745d7b",
   "metadata": {},
   "source": [
    "### j. Analyzing verification status"
   ]
  },
  {
   "cell_type": "code",
   "execution_count": 730,
   "id": "6cd75d68-60e7-4afa-9f1a-ada610c86f47",
   "metadata": {},
   "outputs": [
    {
     "data": {
      "image/png": "[encoded data removed]",
      "text/plain": [
       "<Figure size 640x480 with 1 Axes>"
      ]
     },
     "metadata": {},
     "output_type": "display_data"
    }
   ],
   "source": [
    "data.verification_status.value_counts().plot.bar()\n",
    "plt.xlabel(\"Applicant income verification status\")\n",
    "plt.ylabel(\"Count\")\n",
    "plt.show()"
   ]
  },
  {
   "cell_type": "markdown",
   "id": "31d72cbe-dd7e-40d6-84c7-44a24b3aba6a",
   "metadata": {},
   "source": [
    "##### Observation : Applicants whose income was not verified by LC were the most."
   ]
  },
  {
   "cell_type": "markdown",
   "id": "723d2b0f-10ad-4af0-ac52-7c6be9f14bb7",
   "metadata": {},
   "source": [
    "### k. Analysis of Loan term "
   ]
  },
  {
   "cell_type": "code",
   "execution_count": 734,
   "id": "cb2d015e-80e6-4062-ae11-fc5175dc99b2",
   "metadata": {},
   "outputs": [
    {
     "data": {
      "image/png": "[encoded data removed]",
      "text/plain": [
       "<Figure size 640x480 with 1 Axes>"
      ]
     },
     "metadata": {},
     "output_type": "display_data"
    }
   ],
   "source": [
    "data.term.value_counts().plot.bar()\n",
    "plt.xlabel(\"Loan term\")\n",
    "plt.ylabel(\"Count\")\n",
    "plt.show()"
   ]
  },
  {
   "cell_type": "markdown",
   "id": "b3c58a8c-e499-42db-9ca1-d315f6639101",
   "metadata": {},
   "source": [
    "##### Observation : Most of the applicants took loan for the term of 36 months "
   ]
  },
  {
   "cell_type": "markdown",
   "id": "4a407720-11d7-465d-8521-a96cadddc7e1",
   "metadata": {},
   "source": [
    "# 5. Bi-Variate analysis"
   ]
  },
  {
   "cell_type": "code",
   "execution_count": 738,
   "id": "243aafd2-e62c-457a-bedd-de988c4d4d96",
   "metadata": {},
   "outputs": [],
   "source": [
    "# Lets filter the data by \"Charged Off\" and term it as data_defaulted\n",
    "#data_defaulted = data[ data['loan_status'] == \"Charged Off\"]"
   ]
  },
  {
   "cell_type": "code",
   "execution_count": 740,
   "id": "ed9f8374-c403-49b1-bbf9-5cd36c2ff9fb",
   "metadata": {},
   "outputs": [],
   "source": [
    "# In this we will compare how various columns behaves with loan_status column. We will try to plot the percentage value on the \n",
    "# bar plot as the count of each columns value doesn't give us clear comparision between them.\n",
    "# Lets creat a general function to plot bar plot for each column comparison with loan_status"
   ]
  },
  {
   "cell_type": "code",
   "execution_count": 742,
   "id": "3463dc78-9ab8-43b1-91a8-9bb1e43ca124",
   "metadata": {},
   "outputs": [],
   "source": [
    "def Plot(data, column1, column2):\n",
    "    column_vs_loan_status = data.groupby([column1, column2]).loan_status.count().unstack().fillna(0).reset_index()\n",
    "    column_vs_loan_status['Total'] = column_vs_loan_status[\"Charged Off\"] + column_vs_loan_status[\"Fully Paid\"]\n",
    "    column_vs_loan_status['Percentage Defaulted'] = (column_vs_loan_status[\"Charged Off\"] / column_vs_loan_status[\"Total\"])*100\n",
    "    column_vs_loan_status.sort_values('Percentage Defaulted', ascending=False)\n",
    "    #print(column_vs_loan_status)\n",
    "    sns.barplot(data = column_vs_loan_status, x= column1, y= \"Percentage Defaulted\")"
   ]
  },
  {
   "cell_type": "markdown",
   "id": "f3da4a80-22cd-4112-9699-63a0b0cb3c67",
   "metadata": {},
   "source": [
    "### a. Annual income vs default loan status"
   ]
  },
  {
   "cell_type": "code",
   "execution_count": 745,
   "id": "7e0f2a1b-0a29-4605-b433-add3399fa8d4",
   "metadata": {},
   "outputs": [
    {
     "data": {
      "image/png": "[encoded data removed]",
      "text/plain": [
       "<Figure size 640x480 with 1 Axes>"
      ]
     },
     "metadata": {},
     "output_type": "display_data"
    }
   ],
   "source": [
    "plt.xlabel(\"Annual Income\")\n",
    "Plot(data, \"annual_inc_bucket\", \"loan_status\")\n"
   ]
  },
  {
   "cell_type": "markdown",
   "id": "28adaa81-ff95-4d8d-a34c-fa20e3c2fbc6",
   "metadata": {},
   "source": [
    "##### Observation : Applicant with annual income in range 0-40k are most defaulted one"
   ]
  },
  {
   "cell_type": "markdown",
   "id": "2edaa7e1-c83a-4535-993d-526db9527518",
   "metadata": {},
   "source": [
    "### b. Interest rate vs Default loan status"
   ]
  },
  {
   "cell_type": "code",
   "execution_count": 749,
   "id": "c837278c-bf73-44f0-bbb5-414d08bf43dc",
   "metadata": {},
   "outputs": [
    {
     "data": {
      "image/png": "[encoded data removed]",
      "text/plain": [
       "<Figure size 640x480 with 1 Axes>"
      ]
     },
     "metadata": {},
     "output_type": "display_data"
    }
   ],
   "source": [
    "plt.xlabel(\"Interest Rate\")\n",
    "Plot(data, \"int_rate_bucket\", \"loan_status\" )"
   ]
  },
  {
   "cell_type": "markdown",
   "id": "3484ccaa-8cf4-4b8b-a827-bdb2997d9f2b",
   "metadata": {},
   "source": [
    "##### Observation : Applicant whose intrest rate is high : > 20% are more likely to be defaulted."
   ]
  },
  {
   "cell_type": "markdown",
   "id": "b7efd735-c043-45db-a10d-5cd0a52f8cfe",
   "metadata": {},
   "source": [
    "### c . Loan term Vs Defaulted loan status"
   ]
  },
  {
   "cell_type": "code",
   "execution_count": 753,
   "id": "0cece9db-db9e-40fc-8327-b1d6135d0e44",
   "metadata": {},
   "outputs": [
    {
     "data": {
      "image/png": "[encoded data removed]",
      "text/plain": [
       "<Figure size 640x480 with 1 Axes>"
      ]
     },
     "metadata": {},
     "output_type": "display_data"
    }
   ],
   "source": [
    "plt.xlabel(\"Loan term\")\n",
    "Plot(data, \"term\", \"loan_status\")"
   ]
  },
  {
   "cell_type": "markdown",
   "id": "9e03fe13-6a6b-413b-8c44-fca828a51a78",
   "metadata": {},
   "source": [
    "##### Observation : In the above plot for `term` vs `loan status` we can see that applicants who took loan for 60 months term are the one who are most defaulted."
   ]
  },
  {
   "cell_type": "markdown",
   "id": "e6c5d1cf-2a7e-4622-ab87-4fc4785adbfd",
   "metadata": {},
   "source": [
    "### d. Loan amount vs Defaulted loan status"
   ]
  },
  {
   "cell_type": "code",
   "execution_count": 757,
   "id": "2de04f1d-1f91-4af5-8e82-f000298e211b",
   "metadata": {},
   "outputs": [
    {
     "data": {
      "image/png": "[encoded data removed]",
      "text/plain": [
       "<Figure size 640x480 with 1 Axes>"
      ]
     },
     "metadata": {},
     "output_type": "display_data"
    }
   ],
   "source": [
    "Plot(data, \"loan_amnt_bucket\", \"loan_status\")"
   ]
  },
  {
   "cell_type": "markdown",
   "id": "6c324aa9-9738-4646-abe2-9cc8b8343f29",
   "metadata": {},
   "source": [
    "##### Observation : It is observed that the applicant whose loan amount is in range of >15k are the ones who are most defaulted."
   ]
  },
  {
   "cell_type": "markdown",
   "id": "de9bdd29-fdda-44df-8a8b-214ecfb8678e",
   "metadata": {},
   "source": [
    "### e. Home ownership Vs Default loan status"
   ]
  },
  {
   "cell_type": "code",
   "execution_count": 761,
   "id": "5d751934-bbf6-4e1d-8820-55254dc0f5d0",
   "metadata": {},
   "outputs": [
    {
     "data": {
      "image/png": "[encoded data removed]",
      "text/plain": [
       "<Figure size 640x480 with 1 Axes>"
      ]
     },
     "metadata": {},
     "output_type": "display_data"
    }
   ],
   "source": [
    "plt.xlabel(\"Home ownership\")\n",
    "Plot(data, \"home_ownership\", \"loan_status\")"
   ]
  },
  {
   "cell_type": "markdown",
   "id": "de97467e-6459-40f4-b756-0b8654aa6bb5",
   "metadata": {},
   "source": [
    "##### Observation : From home ownership, we cannot get clear indication if the applicant will be defaulted."
   ]
  },
  {
   "cell_type": "markdown",
   "id": "663c180c-47ea-4bdc-89d0-82b882ef96ac",
   "metadata": {},
   "source": [
    "### f. Employee length Vs Default loan status"
   ]
  },
  {
   "cell_type": "code",
   "execution_count": 765,
   "id": "2f9076ad-78ea-44e0-a0bd-2cdb115c7330",
   "metadata": {},
   "outputs": [
    {
     "data": {
      "image/png": "[encoded data removed]",
      "text/plain": [
       "<Figure size 640x480 with 1 Axes>"
      ]
     },
     "metadata": {},
     "output_type": "display_data"
    }
   ],
   "source": [
    "Plot(data, \"emp_length\", \"loan_status\")"
   ]
  },
  {
   "cell_type": "markdown",
   "id": "2189ec1d-50b5-475d-9f86-ce86ecf02ecf",
   "metadata": {},
   "source": [
    "##### Observation : Employee length doesn't give clear indication of the applicants loan status."
   ]
  },
  {
   "cell_type": "markdown",
   "id": "f874f831-d90f-4e84-a5fd-a6aeeb051157",
   "metadata": {},
   "source": [
    "### g. Loan purpose vs loan status"
   ]
  },
  {
   "cell_type": "code",
   "execution_count": 769,
   "id": "4dcb417a-f754-4165-b9c7-35fd8bb51366",
   "metadata": {},
   "outputs": [
    {
     "data": {
      "image/png": "[encoded data removed]",
      "text/plain": [
       "<Figure size 640x480 with 1 Axes>"
      ]
     },
     "metadata": {},
     "output_type": "display_data"
    }
   ],
   "source": [
    "plt.xticks(rotation=90) \n",
    "plt.xlabel(\"Loan purpose\")\n",
    "Plot(data, \"purpose\", \"loan_status\")"
   ]
  },
  {
   "cell_type": "markdown",
   "id": "ecc1dd1e-a53d-4785-9e51-2328831d4167",
   "metadata": {},
   "source": [
    "#### Observation : People who availed loan for small businesses are the one who are defaulted more."
   ]
  },
  {
   "cell_type": "markdown",
   "id": "c93e4072-e1b5-4389-b7f6-a7990740f56a",
   "metadata": {},
   "source": [
    "### h. Issue month, year Vs Loan status"
   ]
  },
  {
   "cell_type": "code",
   "execution_count": 773,
   "id": "545b3b80-6697-44e3-8d16-dfef7d11965d",
   "metadata": {},
   "outputs": [
    {
     "data": {
      "image/png": "[encoded data removed]",
      "text/plain": [
       "<Figure size 640x480 with 1 Axes>"
      ]
     },
     "metadata": {},
     "output_type": "display_data"
    }
   ],
   "source": [
    "plt.xlabel(\"Loan issue year\")\n",
    "Plot(data, \"issue_year\", \"loan_status\" )"
   ]
  },
  {
   "cell_type": "code",
   "execution_count": 774,
   "id": "0501a2eb-9ceb-4e6a-84ff-000ccab1689f",
   "metadata": {},
   "outputs": [
    {
     "data": {
      "image/png": "[encoded data removed]",
      "text/plain": [
       "<Figure size 640x480 with 1 Axes>"
      ]
     },
     "metadata": {},
     "output_type": "display_data"
    }
   ],
   "source": [
    "plt.xlabel(\"Loan issue month\")\n",
    "Plot(data, \"issue_month\", \"loan_status\" )"
   ]
  },
  {
   "cell_type": "markdown",
   "id": "0491d71c-373e-49a2-a48c-3ee940152ffa",
   "metadata": {},
   "source": [
    "#### Observation : Defaulted Loan issued in year 2007 was highest and the loans which are issued in month of sept to dec are mostly defaulted"
   ]
  },
  {
   "cell_type": "markdown",
   "id": "40717058-4370-465c-a8e5-8504eaa92adf",
   "metadata": {},
   "source": [
    "### i. Applicants verification status VS default loan status"
   ]
  },
  {
   "cell_type": "code",
   "execution_count": 779,
   "id": "7987ffc3-b3be-43de-aa63-5b33bc7b03fe",
   "metadata": {},
   "outputs": [
    {
     "data": {
      "image/png": "[encoded data removed]",
      "text/plain": [
       "<Figure size 640x480 with 1 Axes>"
      ]
     },
     "metadata": {},
     "output_type": "display_data"
    }
   ],
   "source": [
    "Plot(data, \"verification_status\", \"loan_status\")"
   ]
  },
  {
   "cell_type": "markdown",
   "id": "9b1898a6-549c-4c74-8466-d5706f8f6045",
   "metadata": {},
   "source": [
    "#### Observation : We don't get much insight from the income verification of the applicant."
   ]
  },
  {
   "cell_type": "markdown",
   "id": "c2ae5806-8d3b-4a12-8e34-c12131ea1463",
   "metadata": {},
   "source": [
    "### j. Grade VS loan status"
   ]
  },
  {
   "cell_type": "code",
   "execution_count": 783,
   "id": "490ff90b-dd6c-4e20-a4e4-e5bfaba27573",
   "metadata": {},
   "outputs": [
    {
     "data": {
      "image/png": "[encoded data removed]",
      "text/plain": [
       "<Figure size 640x480 with 1 Axes>"
      ]
     },
     "metadata": {},
     "output_type": "display_data"
    }
   ],
   "source": [
    "Plot(data, \"grade\", \"loan_status\")"
   ]
  },
  {
   "cell_type": "markdown",
   "id": "93a0ee8f-79d9-4f01-8ef0-27746fc07f14",
   "metadata": {},
   "source": [
    "##### Observation : Grade G more more defaulted"
   ]
  },
  {
   "cell_type": "markdown",
   "id": "7895182f-1a82-4336-bfc8-d2759c12c324",
   "metadata": {},
   "source": [
    "### k. Addresss State Vs Loan status"
   ]
  },
  {
   "cell_type": "code",
   "execution_count": 787,
   "id": "3cb3e3e7-0efc-41c2-a553-d081ce13735f",
   "metadata": {},
   "outputs": [
    {
     "data": {
      "image/png": "[encoded data removed]",
      "text/plain": [
       "<Figure size 640x480 with 1 Axes>"
      ]
     },
     "metadata": {},
     "output_type": "display_data"
    }
   ],
   "source": [
    "plt.xticks(rotation=90) \n",
    "Plot(data, \"addr_state\", \"loan_status\")"
   ]
  },
  {
   "cell_type": "markdown",
   "id": "8975c85e-c8d2-4883-9ce3-e2cd2ee10b64",
   "metadata": {},
   "source": [
    "#### Observation : If applicant is from state TX then more chances of loan getting default"
   ]
  },
  {
   "cell_type": "markdown",
   "id": "10a2b2d9-cc59-46ef-993a-b4c130e191de",
   "metadata": {},
   "source": [
    "### l. Public record bankrupticies Vs Loan status"
   ]
  },
  {
   "cell_type": "code",
   "execution_count": 791,
   "id": "77b3b491-bfce-4ddb-80cc-9606bdb3f295",
   "metadata": {},
   "outputs": [
    {
     "data": {
      "image/png": "[encoded data removed]",
      "text/plain": [
       "<Figure size 640x480 with 1 Axes>"
      ]
     },
     "metadata": {},
     "output_type": "display_data"
    }
   ],
   "source": [
    "plt.xlabel(\"Numer of public record bankruptcies\")\n",
    "Plot(data, \"pub_rec_bankruptcies\", \"loan_status\")"
   ]
  },
  {
   "cell_type": "markdown",
   "id": "605197d1-8491-4ca5-a01b-639535af9f48",
   "metadata": {},
   "source": [
    "#### Obseervation : If applicant has gone banlrupticies more than once then it is more likely that applicant will go default."
   ]
  },
  {
   "cell_type": "markdown",
   "id": "c6efd947-a3a8-4f1a-b2fc-3e29d2872bea",
   "metadata": {},
   "source": [
    "### m. dti_bucket Vs Loan status"
   ]
  },
  {
   "cell_type": "code",
   "execution_count": 795,
   "id": "f81ff13f-3f45-44a8-a97b-578402f552b2",
   "metadata": {},
   "outputs": [
    {
     "data": {
      "image/png": "[encoded data removed]",
      "text/plain": [
       "<Figure size 640x480 with 1 Axes>"
      ]
     },
     "metadata": {},
     "output_type": "display_data"
    }
   ],
   "source": [
    "plt.xlabel(\"DTI\")\n",
    "Plot(data, \"dti_bucket\", \"loan_status\")"
   ]
  },
  {
   "cell_type": "markdown",
   "id": "e520b583-99fa-4b82-bc66-16051f125012",
   "metadata": {},
   "source": [
    "#### Observation : High DTI means high changes of loan getting default"
   ]
  },
  {
   "cell_type": "markdown",
   "id": "01788330-57f8-4fd3-99c5-db61fce1e641",
   "metadata": {},
   "source": [
    "### **Observations**:\n",
    "The analysis of charged-off loans for each variable indicates the following. The likelihood of default increases when:\n",
    "\n",
    "- Applicant has annual income in range 0-40k \n",
    "- Applicant's intrest rate is very hig : > 20% \n",
    "- Loan term is of 60 months\n",
    "- Loan amount is more than 15k\n",
    "- Applicants use the loan for small businesses\n",
    "- Loan is issued in year 2007 or in month of sept to dec\n",
    "- Applicant is from TX state\n",
    "- Applicant has more that 1 bankruptcies in past\n",
    "- DTI is more than 20%\n"
   ]
  },
  {
   "cell_type": "markdown",
   "id": "797de085-eaf8-4d0c-bcb5-2b22de31d1aa",
   "metadata": {},
   "source": [
    "### 6. Multi-Variate analysis"
   ]
  },
  {
   "cell_type": "code",
   "execution_count": 800,
   "id": "e0f85c5d-ddf7-4a0e-9db7-f032e61f1f63",
   "metadata": {},
   "outputs": [
    {
     "data": {
      "text/html": [
       "<div>\n",
       "<style scoped>\n",
       "    .dataframe tbody tr th:only-of-type {\n",
       "        vertical-align: middle;\n",
       "    }\n",
       "\n",
       "    .dataframe tbody tr th {\n",
       "        vertical-align: top;\n",
       "    }\n",
       "\n",
       "    .dataframe thead th {\n",
       "        text-align: right;\n",
       "    }\n",
       "</style>\n",
       "<table border=\"1\" class=\"dataframe\">\n",
       "  <thead>\n",
       "    <tr style=\"text-align: right;\">\n",
       "      <th></th>\n",
       "      <th>loan_amnt</th>\n",
       "      <th>funded_amnt</th>\n",
       "      <th>funded_amnt_inv</th>\n",
       "      <th>term</th>\n",
       "      <th>int_rate</th>\n",
       "      <th>installment</th>\n",
       "      <th>grade</th>\n",
       "      <th>sub_grade</th>\n",
       "      <th>emp_length</th>\n",
       "      <th>home_ownership</th>\n",
       "      <th>...</th>\n",
       "      <th>addr_state</th>\n",
       "      <th>dti</th>\n",
       "      <th>pub_rec</th>\n",
       "      <th>pub_rec_bankruptcies</th>\n",
       "      <th>issue_month</th>\n",
       "      <th>issue_year</th>\n",
       "      <th>loan_amnt_bucket</th>\n",
       "      <th>int_rate_bucket</th>\n",
       "      <th>annual_inc_bucket</th>\n",
       "      <th>dti_bucket</th>\n",
       "    </tr>\n",
       "  </thead>\n",
       "  <tbody>\n",
       "    <tr>\n",
       "      <th>0</th>\n",
       "      <td>5000</td>\n",
       "      <td>5000</td>\n",
       "      <td>4975.0</td>\n",
       "      <td>36</td>\n",
       "      <td>10.65</td>\n",
       "      <td>162.87</td>\n",
       "      <td>B</td>\n",
       "      <td>B2</td>\n",
       "      <td>10</td>\n",
       "      <td>RENT</td>\n",
       "      <td>...</td>\n",
       "      <td>AZ</td>\n",
       "      <td>27.65</td>\n",
       "      <td>0</td>\n",
       "      <td>0.0</td>\n",
       "      <td>12</td>\n",
       "      <td>2011</td>\n",
       "      <td>0-5k</td>\n",
       "      <td>Low</td>\n",
       "      <td>0-40k</td>\n",
       "      <td>Very high</td>\n",
       "    </tr>\n",
       "    <tr>\n",
       "      <th>1</th>\n",
       "      <td>2500</td>\n",
       "      <td>2500</td>\n",
       "      <td>2500.0</td>\n",
       "      <td>60</td>\n",
       "      <td>15.27</td>\n",
       "      <td>59.83</td>\n",
       "      <td>C</td>\n",
       "      <td>C4</td>\n",
       "      <td>0</td>\n",
       "      <td>RENT</td>\n",
       "      <td>...</td>\n",
       "      <td>GA</td>\n",
       "      <td>1.00</td>\n",
       "      <td>0</td>\n",
       "      <td>0.0</td>\n",
       "      <td>12</td>\n",
       "      <td>2011</td>\n",
       "      <td>0-5k</td>\n",
       "      <td>Moderate</td>\n",
       "      <td>0-40k</td>\n",
       "      <td>Very low</td>\n",
       "    </tr>\n",
       "    <tr>\n",
       "      <th>2</th>\n",
       "      <td>2400</td>\n",
       "      <td>2400</td>\n",
       "      <td>2400.0</td>\n",
       "      <td>36</td>\n",
       "      <td>15.96</td>\n",
       "      <td>84.33</td>\n",
       "      <td>C</td>\n",
       "      <td>C5</td>\n",
       "      <td>10</td>\n",
       "      <td>RENT</td>\n",
       "      <td>...</td>\n",
       "      <td>IL</td>\n",
       "      <td>8.72</td>\n",
       "      <td>0</td>\n",
       "      <td>0.0</td>\n",
       "      <td>12</td>\n",
       "      <td>2011</td>\n",
       "      <td>0-5k</td>\n",
       "      <td>Moderate</td>\n",
       "      <td>0-40k</td>\n",
       "      <td>Low</td>\n",
       "    </tr>\n",
       "    <tr>\n",
       "      <th>3</th>\n",
       "      <td>10000</td>\n",
       "      <td>10000</td>\n",
       "      <td>10000.0</td>\n",
       "      <td>36</td>\n",
       "      <td>13.49</td>\n",
       "      <td>339.31</td>\n",
       "      <td>C</td>\n",
       "      <td>C1</td>\n",
       "      <td>10</td>\n",
       "      <td>RENT</td>\n",
       "      <td>...</td>\n",
       "      <td>CA</td>\n",
       "      <td>20.00</td>\n",
       "      <td>0</td>\n",
       "      <td>0.0</td>\n",
       "      <td>12</td>\n",
       "      <td>2011</td>\n",
       "      <td>5k-10k</td>\n",
       "      <td>Moderate</td>\n",
       "      <td>40k-50k</td>\n",
       "      <td>High</td>\n",
       "    </tr>\n",
       "    <tr>\n",
       "      <th>5</th>\n",
       "      <td>5000</td>\n",
       "      <td>5000</td>\n",
       "      <td>5000.0</td>\n",
       "      <td>36</td>\n",
       "      <td>7.90</td>\n",
       "      <td>156.46</td>\n",
       "      <td>A</td>\n",
       "      <td>A4</td>\n",
       "      <td>3</td>\n",
       "      <td>RENT</td>\n",
       "      <td>...</td>\n",
       "      <td>AZ</td>\n",
       "      <td>11.20</td>\n",
       "      <td>0</td>\n",
       "      <td>0.0</td>\n",
       "      <td>12</td>\n",
       "      <td>2011</td>\n",
       "      <td>0-5k</td>\n",
       "      <td>Very low</td>\n",
       "      <td>0-40k</td>\n",
       "      <td>Low</td>\n",
       "    </tr>\n",
       "  </tbody>\n",
       "</table>\n",
       "<p>5 rows × 25 columns</p>\n",
       "</div>"
      ],
      "text/plain": [
       "   loan_amnt  funded_amnt  funded_amnt_inv  term  int_rate  installment grade  \\\n",
       "0       5000         5000           4975.0    36     10.65       162.87     B   \n",
       "1       2500         2500           2500.0    60     15.27        59.83     C   \n",
       "2       2400         2400           2400.0    36     15.96        84.33     C   \n",
       "3      10000        10000          10000.0    36     13.49       339.31     C   \n",
       "5       5000         5000           5000.0    36      7.90       156.46     A   \n",
       "\n",
       "  sub_grade  emp_length home_ownership  ...  addr_state    dti pub_rec  \\\n",
       "0        B2          10           RENT  ...          AZ  27.65       0   \n",
       "1        C4           0           RENT  ...          GA   1.00       0   \n",
       "2        C5          10           RENT  ...          IL   8.72       0   \n",
       "3        C1          10           RENT  ...          CA  20.00       0   \n",
       "5        A4           3           RENT  ...          AZ  11.20       0   \n",
       "\n",
       "  pub_rec_bankruptcies issue_month issue_year  loan_amnt_bucket  \\\n",
       "0                  0.0          12       2011              0-5k   \n",
       "1                  0.0          12       2011              0-5k   \n",
       "2                  0.0          12       2011              0-5k   \n",
       "3                  0.0          12       2011            5k-10k   \n",
       "5                  0.0          12       2011              0-5k   \n",
       "\n",
       "   int_rate_bucket  annual_inc_bucket  dti_bucket  \n",
       "0              Low              0-40k   Very high  \n",
       "1         Moderate              0-40k    Very low  \n",
       "2         Moderate              0-40k         Low  \n",
       "3         Moderate            40k-50k        High  \n",
       "5         Very low              0-40k         Low  \n",
       "\n",
       "[5 rows x 25 columns]"
      ]
     },
     "execution_count": 800,
     "metadata": {},
     "output_type": "execute_result"
    }
   ],
   "source": [
    "data.head()"
   ]
  },
  {
   "cell_type": "code",
   "execution_count": 802,
   "id": "63fcaafe-1ffe-4680-a462-f7a0f4998eda",
   "metadata": {},
   "outputs": [],
   "source": [
    "# Lets try to find the correaltion between the columns"
   ]
  },
  {
   "cell_type": "code",
   "execution_count": 804,
   "id": "ecccd7a1-f74e-40d0-8a87-6d1b65f32b80",
   "metadata": {},
   "outputs": [],
   "source": [
    "data = data [[\"loan_amnt\", \"funded_amnt\", \"funded_amnt_inv\", \"int_rate\",\"installment\", \"emp_length\" , \"annual_inc\" , \"dti\" ]]"
   ]
  },
  {
   "cell_type": "code",
   "execution_count": 806,
   "id": "8e796c2c-28eb-45b1-b7e5-54573955c6e9",
   "metadata": {},
   "outputs": [
    {
     "data": {
      "text/plain": [
       "<Axes: >"
      ]
     },
     "execution_count": 806,
     "metadata": {},
     "output_type": "execute_result"
    },
    {
     "data": {
      "image/png": "[encoded data removed]",
      "text/plain": [
       "<Figure size 640x480 with 2 Axes>"
      ]
     },
     "metadata": {},
     "output_type": "display_data"
    }
   ],
   "source": [
    "sns.heatmap(data.corr(), annot=True, cmap='viridis')"
   ]
  },
  {
   "cell_type": "code",
   "execution_count": null,
   "id": "871491ca-742c-483e-9f3a-53b58ef16687",
   "metadata": {},
   "outputs": [],
   "source": []
  },
  {
   "cell_type": "code",
   "execution_count": null,
   "id": "1c870c2b-10d7-4245-b981-cd9c339607c2",
   "metadata": {},
   "outputs": [],
   "source": []
  },
  {
   "cell_type": "code",
   "execution_count": null,
   "id": "355913e3-943d-46a7-a253-20d3be73eb2e",
   "metadata": {},
   "outputs": [],
   "source": []
  }
 ],
 "metadata": {
  "kernelspec": {
   "display_name": "Python 3 (ipykernel)",
   "language": "python",
   "name": "python3"
  },
  "language_info": {
   "codemirror_mode": {
    "name": "ipython",
    "version": 3
   },
   "file_extension": ".py",
   "mimetype": "text/x-python",
   "name": "python",
   "nbconvert_exporter": "python",
   "pygments_lexer": "ipython3",
   "version": "3.12.4"
  }
 },
 "nbformat": 4,
 "nbformat_minor": 5
}
